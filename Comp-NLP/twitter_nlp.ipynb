{
 "cells": [
  {
   "cell_type": "markdown",
   "metadata": {
    "colab_type": "text",
    "id": "WkpNqZeE71aW"
   },
   "source": [
    "# Twitter DataSet"
   ]
  },
  {
   "cell_type": "markdown",
   "metadata": {},
   "source": [
    "### Libraries"
   ]
  },
  {
   "cell_type": "code",
   "execution_count": 1,
   "metadata": {},
   "outputs": [
    {
     "name": "stdout",
     "output_type": "stream",
     "text": [
      "Download is successful\n"
     ]
    }
   ],
   "source": [
    "from turkishnlp import detector\n",
    "obj = detector.TurkishNLP()\n",
    "obj.download()\n",
    "obj.create_word_set()\n",
    "import turkishnlp\n",
    "import json\n",
    "from time import time\n",
    "import GetOldTweets3 as got\n",
    "from textblob import TextBlob\n",
    "from vaderSentiment.vaderSentiment import SentimentIntensityAnalyzer\n",
    "import pandas as pd\n",
    "import matplotlib.pyplot as plt\n",
    "import nltk\n",
    "import re\n",
    "import warnings\n",
    "from collections import Counter\n",
    "from sklearn.feature_extraction.text import TfidfVectorizer\n",
    "import plotly.express as px #visualization\n",
    "import pandas as pd\n",
    "from nltk import word_tokenize\n",
    "import preprocessor as p\n",
    "from nltk.corpus import stopwords\n",
    "import numpy as np\n",
    "import re\n",
    "import string\n",
    "import preprocessor as p\n",
    "from snowballstemmer import TurkishStemmer\n",
    "from textblob import TextBlob"
   ]
  },
  {
   "cell_type": "markdown",
   "metadata": {},
   "source": [
    "# Scrape data from twitter without requiring any API keys."
   ]
  },
  {
   "cell_type": "markdown",
   "metadata": {},
   "source": [
    "## Vitamin DatasSet"
   ]
  },
  {
   "cell_type": "code",
   "execution_count": 175,
   "metadata": {
    "colab": {},
    "colab_type": "code",
    "id": "ttS2BEus71ad"
   },
   "outputs": [],
   "source": [
    "# \n",
    "def get_tweets(query,state):\n",
    "    tweetCriteria = got.manager.TweetCriteria().setQuerySearch(query)\\\n",
    "                                            .setSince(\"2017-01-01\")\\\n",
    "                                            .setUntil(\"2020-04-01\")\\\n",
    "                                            .setNear(state)\\\n",
    "                                            .setMaxTweets(100)\n",
    "    tweet = got.manager.TweetManager.getTweets(tweetCriteria)\n",
    "    \n",
    "    text_tweets = [[tw.text,\n",
    "                tw.date,\n",
    "                tw.hashtags,\n",
    "                state] for tw in tweet]\n",
    "    \n",
    "    return text_tweets"
   ]
  },
  {
   "cell_type": "code",
   "execution_count": 176,
   "metadata": {
    "colab": {},
    "colab_type": "code",
    "id": "0KFr_KGd71ao"
   },
   "outputs": [],
   "source": [
    "# il bazında twitler çekiliyor.\n",
    "b=[]\n",
    "iller = [\"Adana\",\"Adıyaman\",\"Afyonkarahisar\",\"Ağrı\",\"Aksaray\",\"Amasya\",\"Ankara\",\"Antalya\",\"Ardahan\",\"Artvin\",\n",
    "\"Aydın\",\"Balıkesir\",\"Bartın\",\"Batman\",\"Bayburt\",\"Bilecik\",\"Bingöl\",\"Bitlis\",\"Bolu\",\"Burdur\",\n",
    "\"Bursa\",\"Çanakkale\",\"Çankırı\",\"Çorum\",\"Denizli\",\"Diyarbakır\",\"Düzce\",\"Edirne\",\"Elazığ\",\"Erzincan\",\n",
    "\"Erzurum\",\"Eskişehir\",\"Gaziantep\",\"Giresun\",\"Gümüşhane\",\"Hakkari\",\"Hatay\",\"Iğdır\",\"Isparta\",\"İstanbul\",\n",
    "\"İzmir\",\"Kahramanmaraş\",\"Karabük\",\"Karaman\",\"Kars\",\"Kastamonu\",\"Kayseri\",\"Kırıkkale\",\"Kırklareli\",\"Kırşehir\",\n",
    "\"Kilis\",\"Kocaeli\",\"Konya\",\"Kütahya\",\"Malatya\",\"Manisa\",\"Mardin\",\"Mersin\",\"Muğla\",\"Muş\",\n",
    "\"Nevşehir\",\"Niğde\",\"Ordu\",\"Osmaniye\",\"Rize\",\"Sakarya\",\"Samsun\",\"Siirt\",\"Sinop\",\"Sivas\",\n",
    "\"Şanlıurfa\",\"Şırnak\",\"Tekirdağ\",\"Tokat\",\"Trabzon\",\"Tunceli\",\"Uşak\",\"Van\",\"Yalova\",\"Yozgat\",\"Zonguldak\"]\n",
    "b=[]\n",
    "#for i,j in zip(since_date_YYYY_dash_MM_dash_DD,until_date_YYYY_dash_MM_dash_DD):\n",
    "for il in iller:\n",
    "    #for q in [\"Vitamin\",\"VİTAMİN\"]:\n",
    "    text_tweets=get_tweets(\"vitamin\",il+\",Turkey\")\n",
    "    b+=text_tweets"
   ]
  },
  {
   "cell_type": "code",
   "execution_count": 177,
   "metadata": {
    "colab": {},
    "colab_type": "code",
    "id": "bP2SQvxd71aq",
    "outputId": "a7826d0c-2c74-4627-8aa7-75893552be72"
   },
   "outputs": [],
   "source": [
    "df=pd.DataFrame(b, columns = ['Text', 'Date','Hashtags', 'Location'])"
   ]
  },
  {
   "cell_type": "code",
   "execution_count": 178,
   "metadata": {},
   "outputs": [],
   "source": [
    "df=df.drop_duplicates()"
   ]
  },
  {
   "cell_type": "code",
   "execution_count": 180,
   "metadata": {},
   "outputs": [],
   "source": [
    "df.to_csv(\"v.csv\")"
   ]
  },
  {
   "cell_type": "markdown",
   "metadata": {},
   "source": [
    "# Medigard DataSet"
   ]
  },
  {
   "cell_type": "code",
   "execution_count": 231,
   "metadata": {},
   "outputs": [],
   "source": [
    "iller = [\"Adana\",\"Adıyaman\",\"Afyonkarahisar\",\"Ağrı\",\"Aksaray\",\"Amasya\",\"Ankara\",\"Antalya\",\"Ardahan\",\"Artvin\",\n",
    "\"Aydın\",\"Balıkesir\",\"Bartın\",\"Batman\",\"Bayburt\",\"Bilecik\",\"Bingöl\",\"Bitlis\",\"Bolu\",\"Burdur\",\n",
    "\"Bursa\",\"Çanakkale\",\"Çankırı\",\"Çorum\",\"Denizli\",\"Diyarbakır\",\"Düzce\",\"Edirne\",\"Elazığ\",\"Erzincan\",\n",
    "\"Erzurum\",\"Eskişehir\",\"Gaziantep\",\"Giresun\",\"Gümüşhane\",\"Hakkari\",\"Hatay\",\"Iğdır\",\"Isparta\",\"İstanbul\",\n",
    "\"İzmir\",\"Kahramanmaraş\",\"Karabük\",\"Karaman\",\"Kars\",\"Kastamonu\",\"Kayseri\",\"Kırıkkale\",\"Kırklareli\",\"Kırşehir\",\n",
    "\"Kilis\",\"Kocaeli\",\"Konya\",\"Kütahya\",\"Malatya\",\"Manisa\",\"Mardin\",\"Mersin\",\"Muğla\",\"Muş\",\n",
    "\"Nevşehir\",\"Niğde\",\"Ordu\",\"Osmaniye\",\"Rize\",\"Sakarya\",\"Samsun\",\"Siirt\",\"Sinop\",\"Sivas\",\n",
    "\"Şanlıurfa\",\"Şırnak\",\"Tekirdağ\",\"Tokat\",\"Trabzon\",\"Tunceli\",\"Uşak\",\"Van\",\"Yalova\",\"Yozgat\",\"Zonguldak\"]"
   ]
  },
  {
   "cell_type": "code",
   "execution_count": 232,
   "metadata": {
    "colab": {},
    "colab_type": "code",
    "id": "-XqJxoYm71bB",
    "outputId": "9d11b38d-2c1b-48aa-bc23-88cae13d5961"
   },
   "outputs": [],
   "source": [
    "# Big O notation is crying\n",
    "b=[]\n",
    "#for i,j in zip(since_date_YYYY_dash_MM_dash_DD,until_date_YYYY_dash_MM_dash_DD):\n",
    "for il in iller:\n",
    "    text_tweets=get_tweets(\"medigard\",il+\",Turkey\",100000)\n",
    "    b+=text_tweets"
   ]
  },
  {
   "cell_type": "code",
   "execution_count": 233,
   "metadata": {
    "colab": {},
    "colab_type": "code",
    "id": "cOVajDu271bD",
    "outputId": "2c41168e-6c38-4856-8b4b-a33696769e4b"
   },
   "outputs": [],
   "source": [
    "d=pd.DataFrame(b, columns = ['Text', 'Date','Hashtags', 'Geolocation'])"
   ]
  },
  {
   "cell_type": "code",
   "execution_count": 148,
   "metadata": {},
   "outputs": [],
   "source": [
    "d.to_csv(\"medigard_twitter.csv\")"
   ]
  },
  {
   "cell_type": "markdown",
   "metadata": {
    "colab_type": "text",
    "id": "br6oGzJr71bG"
   },
   "source": [
    "## Data Cleaning for Medigard DataSet"
   ]
  },
  {
   "cell_type": "code",
   "execution_count": 24,
   "metadata": {},
   "outputs": [],
   "source": [
    "df=pd.read_csv(\"Sentiment-Data/medigard_twitter.csv\")"
   ]
  },
  {
   "cell_type": "code",
   "execution_count": 26,
   "metadata": {
    "colab": {},
    "colab_type": "code",
    "id": "flzIOKkj71bJ",
    "outputId": "0f6f461c-552a-4fa6-aea0-5d6192dc767c"
   },
   "outputs": [
    {
     "data": {
      "text/html": [
       "<div>\n",
       "<style scoped>\n",
       "    .dataframe tbody tr th:only-of-type {\n",
       "        vertical-align: middle;\n",
       "    }\n",
       "\n",
       "    .dataframe tbody tr th {\n",
       "        vertical-align: top;\n",
       "    }\n",
       "\n",
       "    .dataframe thead th {\n",
       "        text-align: right;\n",
       "    }\n",
       "</style>\n",
       "<table border=\"1\" class=\"dataframe\">\n",
       "  <thead>\n",
       "    <tr style=\"text-align: right;\">\n",
       "      <th></th>\n",
       "      <th>Text</th>\n",
       "      <th>Date</th>\n",
       "      <th>Geolocation</th>\n",
       "    </tr>\n",
       "  </thead>\n",
       "  <tbody>\n",
       "    <tr>\n",
       "      <th>0</th>\n",
       "      <td>#sağlıklıyaşami̇puçları egzersiz yaparken her ...</td>\n",
       "      <td>2017-01-31 12:08:22+00:00</td>\n",
       "      <td>ADIYAMAN,Turkey</td>\n",
       "    </tr>\n",
       "    <tr>\n",
       "      <th>1</th>\n",
       "      <td>alarm çalmadan uyanmaya var mısın? #medigard</td>\n",
       "      <td>2017-01-30 07:02:46+00:00</td>\n",
       "      <td>ADIYAMAN,Turkey</td>\n",
       "    </tr>\n",
       "    <tr>\n",
       "      <th>2</th>\n",
       "      <td>vücuttaki #koenzimq10 eksikliğini önlemek için...</td>\n",
       "      <td>2017-01-27 12:50:59+00:00</td>\n",
       "      <td>ADIYAMAN,Turkey</td>\n",
       "    </tr>\n",
       "    <tr>\n",
       "      <th>3</th>\n",
       "      <td>enerjinin evrimine tanıklık etmeye ne dersin? ...</td>\n",
       "      <td>2017-01-26 10:00:27+00:00</td>\n",
       "      <td>ADIYAMAN,Turkey</td>\n",
       "    </tr>\n",
       "    <tr>\n",
       "      <th>4</th>\n",
       "      <td>vücuttaki kalsiyumun %99’u kemiklerde ve dişle...</td>\n",
       "      <td>2017-01-25 12:25:28+00:00</td>\n",
       "      <td>ADIYAMAN,Turkey</td>\n",
       "    </tr>\n",
       "  </tbody>\n",
       "</table>\n",
       "</div>"
      ],
      "text/plain": [
       "                                                Text  \\\n",
       "0  #sağlıklıyaşami̇puçları egzersiz yaparken her ...   \n",
       "1      alarm çalmadan uyanmaya var mısın? #medigard    \n",
       "2  vücuttaki #koenzimq10 eksikliğini önlemek için...   \n",
       "3  enerjinin evrimine tanıklık etmeye ne dersin? ...   \n",
       "4  vücuttaki kalsiyumun %99’u kemiklerde ve dişle...   \n",
       "\n",
       "                        Date      Geolocation  \n",
       "0  2017-01-31 12:08:22+00:00  ADIYAMAN,Turkey  \n",
       "1  2017-01-30 07:02:46+00:00  ADIYAMAN,Turkey  \n",
       "2  2017-01-27 12:50:59+00:00  ADIYAMAN,Turkey  \n",
       "3  2017-01-26 10:00:27+00:00  ADIYAMAN,Turkey  \n",
       "4  2017-01-25 12:25:28+00:00  ADIYAMAN,Turkey  "
      ]
     },
     "execution_count": 26,
     "metadata": {},
     "output_type": "execute_result"
    }
   ],
   "source": [
    "#df=pd.read_csv(\"medigard_twitter.csv\")\n",
    "df=df.drop(columns=['Unnamed: 0'])\n",
    "df.head()"
   ]
  },
  {
   "cell_type": "code",
   "execution_count": 27,
   "metadata": {
    "colab": {},
    "colab_type": "code",
    "id": "gjBdzZeQ71bL",
    "outputId": "1c170a43-376d-4f15-ecdf-10fd620cad5b"
   },
   "outputs": [
    {
     "name": "stdout",
     "output_type": "stream",
     "text": [
      "<class 'pandas.core.frame.DataFrame'>\n",
      "RangeIndex: 14715 entries, 0 to 14714\n",
      "Data columns (total 3 columns):\n",
      " #   Column       Non-Null Count  Dtype \n",
      "---  ------       --------------  ----- \n",
      " 0   Text         14715 non-null  object\n",
      " 1   Date         14715 non-null  object\n",
      " 2   Geolocation  14715 non-null  object\n",
      "dtypes: object(3)\n",
      "memory usage: 345.0+ KB\n"
     ]
    }
   ],
   "source": [
    "df.info()"
   ]
  },
  {
   "cell_type": "code",
   "execution_count": 29,
   "metadata": {
    "colab": {},
    "colab_type": "code",
    "id": "glstr0Lz71bQ",
    "outputId": "71c6b470-5070-4964-93ef-bed7e88290f5"
   },
   "outputs": [
    {
     "name": "stdout",
     "output_type": "stream",
     "text": [
      "<class 'pandas.core.frame.DataFrame'>\n",
      "Int64Index: 14715 entries, 0 to 14714\n",
      "Data columns (total 3 columns):\n",
      " #   Column       Non-Null Count  Dtype \n",
      "---  ------       --------------  ----- \n",
      " 0   Text         14715 non-null  object\n",
      " 1   Date         14715 non-null  object\n",
      " 2   Geolocation  14715 non-null  object\n",
      "dtypes: object(3)\n",
      "memory usage: 459.8+ KB\n"
     ]
    }
   ],
   "source": [
    "df=df.dropna()\n",
    "df.info()"
   ]
  },
  {
   "cell_type": "code",
   "execution_count": 30,
   "metadata": {},
   "outputs": [
    {
     "data": {
      "text/plain": [
       "array(['ADIYAMAN,Turkey', 'AFYONKARAHİSAR,Turkey', 'AĞRI,Turkey',\n",
       "       'AMASYA,Turkey', 'ARDAHAN,Turkey', 'ARTVİN,Turkey',\n",
       "       'BİLECİK,Turkey', 'BİNGÖL,Turkey', 'ÇANAKKALE,Turkey',\n",
       "       'ÇANKIRI,Turkey', 'ÇORUM,Turkey', 'DİYARBAKIR,Turkey',\n",
       "       'DÜZCE,Turkey', 'ELAZIĞ,Turkey', 'ESKİŞEHİR,Turkey',\n",
       "       'GÜMÜŞHANE,Turkey', 'HAKKARİ,Turkey', 'IĞDIR,Turkey',\n",
       "       'İZMİR,Turkey', 'KARABÜK,Turkey', 'KAYSERİ,Turkey',\n",
       "       'KIRKLARELİ,Turkey', 'KIRŞEHİR,Turkey', 'KİLİS,Turkey',\n",
       "       'KOCAELİ,Turkey', 'KÜTAHYA,Turkey', 'NEVŞEHİR,Turkey',\n",
       "       'NİĞDE,Turkey', 'OSMANİYE,Turkey', 'ŞIRNAK,Turkey',\n",
       "       'TEKİRDAĞ,Turkey'], dtype=object)"
      ]
     },
     "execution_count": 30,
     "metadata": {},
     "output_type": "execute_result"
    }
   ],
   "source": [
    "df.Geolocation.unique()\n",
    "#df.groupby([\"Date\",\"Geolocation\"]).Text.count().sort_values(ascending=False).head(10)"
   ]
  },
  {
   "cell_type": "code",
   "execution_count": 31,
   "metadata": {},
   "outputs": [],
   "source": [
    "df=df[df[\"Date\"]<\"2020-04-01\"]"
   ]
  },
  {
   "cell_type": "code",
   "execution_count": 32,
   "metadata": {},
   "outputs": [
    {
     "name": "stdout",
     "output_type": "stream",
     "text": [
      "<class 'pandas.core.frame.DataFrame'>\n",
      "Int64Index: 7664 entries, 0 to 14714\n",
      "Data columns (total 3 columns):\n",
      " #   Column       Non-Null Count  Dtype \n",
      "---  ------       --------------  ----- \n",
      " 0   Text         7664 non-null   object\n",
      " 1   Date         7664 non-null   object\n",
      " 2   Geolocation  7664 non-null   object\n",
      "dtypes: object(3)\n",
      "memory usage: 239.5+ KB\n"
     ]
    }
   ],
   "source": [
    "df=df.drop_duplicates()\n",
    "df.info()"
   ]
  },
  {
   "cell_type": "code",
   "execution_count": 36,
   "metadata": {},
   "outputs": [
    {
     "data": {
      "text/plain": [
       "Date                       Geolocation    \n",
       "2017-03-31 13:43:46+00:00  TEKİRDAĞ,Turkey    2\n",
       "2017-03-13 07:45:45+00:00  NEVŞEHİR,Turkey    2\n",
       "2017-03-14 12:18:33+00:00  KAYSERİ,Turkey     2\n",
       "                           KARABÜK,Turkey     2\n",
       "                           IĞDIR,Turkey       2\n",
       "2017-05-25 09:30:53+00:00  İZMİR,Turkey       2\n",
       "                           ŞIRNAK,Turkey      2\n",
       "2017-03-13 07:45:45+00:00  ŞIRNAK,Turkey      2\n",
       "                           İZMİR,Turkey       2\n",
       "                           TEKİRDAĞ,Turkey    2\n",
       "Name: Text, dtype: int64"
      ]
     },
     "execution_count": 36,
     "metadata": {},
     "output_type": "execute_result"
    }
   ],
   "source": [
    "df.groupby([\"Date\",\"Geolocation\"]).Text.count().sort_values(ascending=False).head(10)"
   ]
  },
  {
   "cell_type": "code",
   "execution_count": 37,
   "metadata": {},
   "outputs": [
    {
     "data": {
      "text/plain": [
       "Geolocation\n",
       "ŞIRNAK,Turkey        587\n",
       "TEKİRDAĞ,Turkey      585\n",
       "OSMANİYE,Turkey      547\n",
       "NEVŞEHİR,Turkey      411\n",
       "NİĞDE,Turkey         409\n",
       "KÜTAHYA,Turkey       406\n",
       "KİLİS,Turkey         388\n",
       "KIRŞEHİR,Turkey      388\n",
       "KOCAELİ,Turkey       387\n",
       "KIRKLARELİ,Turkey    338\n",
       "Name: Text, dtype: int64"
      ]
     },
     "execution_count": 37,
     "metadata": {},
     "output_type": "execute_result"
    }
   ],
   "source": [
    "df.groupby([\"Geolocation\"]).Text.count().sort_values(ascending=False).head(10)"
   ]
  },
  {
   "cell_type": "code",
   "execution_count": 38,
   "metadata": {},
   "outputs": [
    {
     "data": {
      "text/plain": [
       "Date\n",
       "2017-01-03 01:18:34+00:00    45\n",
       "2017-05-18 12:54:20+00:00    45\n",
       "2017-05-16 12:32:06+00:00    45\n",
       "2017-05-16 12:29:39+00:00    45\n",
       "2017-05-15 11:54:41+00:00    45\n",
       "2017-05-12 14:55:39+00:00    45\n",
       "2017-05-11 07:35:07+00:00    45\n",
       "2017-05-09 12:43:32+00:00    45\n",
       "2017-05-05 13:18:45+00:00    45\n",
       "2017-05-04 12:51:35+00:00    45\n",
       "Name: Text, dtype: int64"
      ]
     },
     "execution_count": 38,
     "metadata": {},
     "output_type": "execute_result"
    }
   ],
   "source": [
    "df.groupby([\"Date\"]).Text.count().sort_values(ascending=False).head(10)"
   ]
  },
  {
   "cell_type": "code",
   "execution_count": 12,
   "metadata": {
    "colab": {},
    "colab_type": "code",
    "id": "qqtZ5YzW71bZ"
   },
   "outputs": [],
   "source": [
    "#Data PreProcessing\n",
    "#blob = TextBlob(\"Comment vas-tu?\")\n",
    " \n",
    "#print(blob.detect_language())\n",
    " \n",
    "#print(blob.translate(to='es'))\n",
    "\n",
    "\n",
    "\n",
    "WPT = nltk.WordPunctTokenizer()\n",
    "stop_word_list = nltk.corpus.stopwords.words('turkish')\n",
    "\n",
    "\n",
    "docs = df['Text']\n",
    "docs = docs.map(lambda x: re.sub('[,\\.!?();:$%&#\"]', '', x)) #punc are removed\n",
    "docs = docs.map(lambda x: x.lower()) # küçük harf\n",
    "docs = docs.map(lambda x: x.strip())\n",
    "\n",
    "\n",
    "\n",
    "#docs=docs.map(lambda x: TextBlob(x).translate(to=\"tr\"))\n",
    "\n",
    "#stopwords are removed\n",
    "def token(values):\n",
    "    filtered_words = [word for word in values.split() if word not in stop_word_list]\n",
    "    not_stopword_doc = \" \".join(filtered_words)\n",
    "    return not_stopword_doc\n",
    "\n",
    "docs = docs.map(lambda x: token(x))\n",
    "df['Text'] = docs"
   ]
  },
  {
   "cell_type": "code",
   "execution_count": 40,
   "metadata": {
    "colab": {},
    "colab_type": "code",
    "id": "OEPmGz9q71bc",
    "outputId": "30651440-bfcb-4f4c-ebd0-8f80909724fb"
   },
   "outputs": [
    {
     "data": {
      "text/html": [
       "<div>\n",
       "<style scoped>\n",
       "    .dataframe tbody tr th:only-of-type {\n",
       "        vertical-align: middle;\n",
       "    }\n",
       "\n",
       "    .dataframe tbody tr th {\n",
       "        vertical-align: top;\n",
       "    }\n",
       "\n",
       "    .dataframe thead th {\n",
       "        text-align: right;\n",
       "    }\n",
       "</style>\n",
       "<table border=\"1\" class=\"dataframe\">\n",
       "  <thead>\n",
       "    <tr style=\"text-align: right;\">\n",
       "      <th></th>\n",
       "      <th>Text</th>\n",
       "      <th>Date</th>\n",
       "      <th>Geolocation</th>\n",
       "    </tr>\n",
       "  </thead>\n",
       "  <tbody>\n",
       "    <tr>\n",
       "      <th>0</th>\n",
       "      <td>sağlıklıyaşami̇puçları egzersiz yaparken öğünd...</td>\n",
       "      <td>2017-01-31 12:08:22+00:00</td>\n",
       "      <td>ADIYAMAN,Turkey</td>\n",
       "    </tr>\n",
       "    <tr>\n",
       "      <th>1</th>\n",
       "      <td>alarm çalmadan uyanmaya var mısın medigard</td>\n",
       "      <td>2017-01-30 07:02:46+00:00</td>\n",
       "      <td>ADIYAMAN,Turkey</td>\n",
       "    </tr>\n",
       "    <tr>\n",
       "      <th>2</th>\n",
       "      <td>vücuttaki koenzimq10 eksikliğini önlemek günlü...</td>\n",
       "      <td>2017-01-27 12:50:59+00:00</td>\n",
       "      <td>ADIYAMAN,Turkey</td>\n",
       "    </tr>\n",
       "    <tr>\n",
       "      <th>3</th>\n",
       "      <td>enerjinin evrimine tanıklık etmeye dersin medi...</td>\n",
       "      <td>2017-01-26 10:00:27+00:00</td>\n",
       "      <td>ADIYAMAN,Turkey</td>\n",
       "    </tr>\n",
       "    <tr>\n",
       "      <th>4</th>\n",
       "      <td>vücuttaki kalsiyumun 99’u kemiklerde dişlerde ...</td>\n",
       "      <td>2017-01-25 12:25:28+00:00</td>\n",
       "      <td>ADIYAMAN,Turkey</td>\n",
       "    </tr>\n",
       "  </tbody>\n",
       "</table>\n",
       "</div>"
      ],
      "text/plain": [
       "                                                Text  \\\n",
       "0  sağlıklıyaşami̇puçları egzersiz yaparken öğünd...   \n",
       "1         alarm çalmadan uyanmaya var mısın medigard   \n",
       "2  vücuttaki koenzimq10 eksikliğini önlemek günlü...   \n",
       "3  enerjinin evrimine tanıklık etmeye dersin medi...   \n",
       "4  vücuttaki kalsiyumun 99’u kemiklerde dişlerde ...   \n",
       "\n",
       "                        Date      Geolocation  \n",
       "0  2017-01-31 12:08:22+00:00  ADIYAMAN,Turkey  \n",
       "1  2017-01-30 07:02:46+00:00  ADIYAMAN,Turkey  \n",
       "2  2017-01-27 12:50:59+00:00  ADIYAMAN,Turkey  \n",
       "3  2017-01-26 10:00:27+00:00  ADIYAMAN,Turkey  \n",
       "4  2017-01-25 12:25:28+00:00  ADIYAMAN,Turkey  "
      ]
     },
     "execution_count": 40,
     "metadata": {},
     "output_type": "execute_result"
    }
   ],
   "source": [
    "df.head()"
   ]
  },
  {
   "cell_type": "markdown",
   "metadata": {},
   "source": [
    "### Kelime Düzeltme\n",
    "lwords = obj.list_words(\"vri kümsi idrae edre ancaka daha güezl oalbilir\")\n",
    "\n",
    "corrected_words = obj.auto_correct(lwords)\n",
    "\n",
    "corrected_string = \" \".join(corrected_words)\n",
    "\n",
    ">>  'veri kümesi idare eder ancak daha güzel olabilir'."
   ]
  },
  {
   "cell_type": "code",
   "execution_count": null,
   "metadata": {},
   "outputs": [],
   "source": [
    "#def anlamlıOl(kelime):\n",
    "#    lwords = obj.list_words(kelime)\n",
    "#    corrected_words = obj.auto_correct(lwords)\n",
    "#    corrected_string = \" \".join(corrected_words)\n",
    "#    return corrected_string\n",
    "#df.Text=df.Text.map(anlamlıOl)"
   ]
  },
  {
   "cell_type": "markdown",
   "metadata": {},
   "source": [
    "**Not**: Bu baya işe yarar dursa da büyük veri setlerinde zaman açısından sıkıntı yaratacaktır."
   ]
  },
  {
   "cell_type": "code",
   "execution_count": 13,
   "metadata": {},
   "outputs": [],
   "source": [
    "#Rule Based Sent. Analysis\n",
    "# Kaynak 3\n",
    "neg=pd.read_csv('negative_words_tr.txt')\n",
    "pos=pd.read_csv('positive_words_tr.txt')"
   ]
  },
  {
   "cell_type": "code",
   "execution_count": 14,
   "metadata": {},
   "outputs": [
    {
     "data": {
      "text/html": [
       "<div>\n",
       "<style scoped>\n",
       "    .dataframe tbody tr th:only-of-type {\n",
       "        vertical-align: middle;\n",
       "    }\n",
       "\n",
       "    .dataframe tbody tr th {\n",
       "        vertical-align: top;\n",
       "    }\n",
       "\n",
       "    .dataframe thead th {\n",
       "        text-align: right;\n",
       "    }\n",
       "</style>\n",
       "<table border=\"1\" class=\"dataframe\">\n",
       "  <thead>\n",
       "    <tr style=\"text-align: right;\">\n",
       "      <th></th>\n",
       "      <th>Text</th>\n",
       "      <th>Date</th>\n",
       "      <th>Geolocation</th>\n",
       "      <th>text_token</th>\n",
       "    </tr>\n",
       "  </thead>\n",
       "  <tbody>\n",
       "    <tr>\n",
       "      <th>0</th>\n",
       "      <td>sağlıklıyaşami̇puçları egzersiz yaparken öğünd...</td>\n",
       "      <td>2017-01-31 12:08:22+00:00</td>\n",
       "      <td>ADIYAMAN,Turkey</td>\n",
       "      <td>[sağlıklıyaşami̇puç, egzersiz, yapar, ök, prot...</td>\n",
       "    </tr>\n",
       "    <tr>\n",
       "      <th>1</th>\n",
       "      <td>alarm çalmadan uyanmaya var mısın medigard</td>\n",
       "      <td>2017-01-30 07:02:46+00:00</td>\n",
       "      <td>ADIYAMAN,Turkey</td>\n",
       "      <td>[alarm, çalma, uyanma, var, mı, medigardı]</td>\n",
       "    </tr>\n",
       "    <tr>\n",
       "      <th>2</th>\n",
       "      <td>vücuttaki koenzimq10 eksikliğini önlemek günlü...</td>\n",
       "      <td>2017-01-27 12:50:59+00:00</td>\n",
       "      <td>ADIYAMAN,Turkey</td>\n",
       "      <td>[vücut, koenzimq10, eksiklik, önlemek, günlük,...</td>\n",
       "    </tr>\n",
       "    <tr>\n",
       "      <th>3</th>\n",
       "      <td>enerjinin evrimine tanıklık etmeye dersin medi...</td>\n",
       "      <td>2017-01-26 10:00:27+00:00</td>\n",
       "      <td>ADIYAMAN,Turkey</td>\n",
       "      <td>[enerji, evrim, tanıklık, etme, der, medigardı...</td>\n",
       "    </tr>\n",
       "    <tr>\n",
       "      <th>4</th>\n",
       "      <td>vücuttaki kalsiyumun 99’u kemiklerde dişlerde ...</td>\n",
       "      <td>2017-01-25 12:25:28+00:00</td>\n",
       "      <td>ADIYAMAN,Turkey</td>\n",
       "      <td>[vücut, kalsiy, 99, ’, u, kemik, diş, ger, kal...</td>\n",
       "    </tr>\n",
       "  </tbody>\n",
       "</table>\n",
       "</div>"
      ],
      "text/plain": [
       "                                                Text  \\\n",
       "0  sağlıklıyaşami̇puçları egzersiz yaparken öğünd...   \n",
       "1         alarm çalmadan uyanmaya var mısın medigard   \n",
       "2  vücuttaki koenzimq10 eksikliğini önlemek günlü...   \n",
       "3  enerjinin evrimine tanıklık etmeye dersin medi...   \n",
       "4  vücuttaki kalsiyumun 99’u kemiklerde dişlerde ...   \n",
       "\n",
       "                        Date      Geolocation  \\\n",
       "0  2017-01-31 12:08:22+00:00  ADIYAMAN,Turkey   \n",
       "1  2017-01-30 07:02:46+00:00  ADIYAMAN,Turkey   \n",
       "2  2017-01-27 12:50:59+00:00  ADIYAMAN,Turkey   \n",
       "3  2017-01-26 10:00:27+00:00  ADIYAMAN,Turkey   \n",
       "4  2017-01-25 12:25:28+00:00  ADIYAMAN,Turkey   \n",
       "\n",
       "                                          text_token  \n",
       "0  [sağlıklıyaşami̇puç, egzersiz, yapar, ök, prot...  \n",
       "1         [alarm, çalma, uyanma, var, mı, medigardı]  \n",
       "2  [vücut, koenzimq10, eksiklik, önlemek, günlük,...  \n",
       "3  [enerji, evrim, tanıklık, etme, der, medigardı...  \n",
       "4  [vücut, kalsiy, 99, ’, u, kemik, diş, ger, kal...  "
      ]
     },
     "execution_count": 14,
     "metadata": {},
     "output_type": "execute_result"
    }
   ],
   "source": [
    "# Köklere ayırmak için\n",
    "# Çok başarılı bir kütüphane değil aslında.Son çare.\n",
    "def stemming_tokenizer(text): \n",
    "    stemmer = TurkishStemmer()\n",
    "    return [stemmer.stemWord(w) for w in word_tokenize(text)]\n",
    "df['text_token'] = df['Text'].apply(lambda text: stemming_tokenizer(text))\n",
    "df.head()"
   ]
  },
  {
   "cell_type": "code",
   "execution_count": 15,
   "metadata": {},
   "outputs": [
    {
     "data": {
      "text/html": [
       "<div>\n",
       "<style scoped>\n",
       "    .dataframe tbody tr th:only-of-type {\n",
       "        vertical-align: middle;\n",
       "    }\n",
       "\n",
       "    .dataframe tbody tr th {\n",
       "        vertical-align: top;\n",
       "    }\n",
       "\n",
       "    .dataframe thead th {\n",
       "        text-align: right;\n",
       "    }\n",
       "</style>\n",
       "<table border=\"1\" class=\"dataframe\">\n",
       "  <thead>\n",
       "    <tr style=\"text-align: right;\">\n",
       "      <th></th>\n",
       "      <th>Text</th>\n",
       "      <th>Date</th>\n",
       "      <th>Geolocation</th>\n",
       "      <th>text_token</th>\n",
       "      <th>neg</th>\n",
       "      <th>pos</th>\n",
       "    </tr>\n",
       "  </thead>\n",
       "  <tbody>\n",
       "    <tr>\n",
       "      <th>0</th>\n",
       "      <td>sağlıklıyaşami̇puçları egzersiz yaparken öğünd...</td>\n",
       "      <td>2017-01-31 12:08:22+00:00</td>\n",
       "      <td>ADIYAMAN,Turkey</td>\n",
       "      <td>[sağlıklıyaşami̇puç, egzersiz, yapar, ök, prot...</td>\n",
       "      <td></td>\n",
       "      <td></td>\n",
       "    </tr>\n",
       "    <tr>\n",
       "      <th>1</th>\n",
       "      <td>alarm çalmadan uyanmaya var mısın medigard</td>\n",
       "      <td>2017-01-30 07:02:46+00:00</td>\n",
       "      <td>ADIYAMAN,Turkey</td>\n",
       "      <td>[alarm, çalma, uyanma, var, mı, medigardı]</td>\n",
       "      <td>alarm, çalma</td>\n",
       "      <td>var</td>\n",
       "    </tr>\n",
       "    <tr>\n",
       "      <th>2</th>\n",
       "      <td>vücuttaki koenzimq10 eksikliğini önlemek günlü...</td>\n",
       "      <td>2017-01-27 12:50:59+00:00</td>\n",
       "      <td>ADIYAMAN,Turkey</td>\n",
       "      <td>[vücut, koenzimq10, eksiklik, önlemek, günlük,...</td>\n",
       "      <td>önlemek, eksiklik</td>\n",
       "      <td></td>\n",
       "    </tr>\n",
       "    <tr>\n",
       "      <th>3</th>\n",
       "      <td>enerjinin evrimine tanıklık etmeye dersin medi...</td>\n",
       "      <td>2017-01-26 10:00:27+00:00</td>\n",
       "      <td>ADIYAMAN,Turkey</td>\n",
       "      <td>[enerji, evrim, tanıklık, etme, der, medigardı...</td>\n",
       "      <td></td>\n",
       "      <td>enerji</td>\n",
       "    </tr>\n",
       "    <tr>\n",
       "      <th>4</th>\n",
       "      <td>vücuttaki kalsiyumun 99’u kemiklerde dişlerde ...</td>\n",
       "      <td>2017-01-25 12:25:28+00:00</td>\n",
       "      <td>ADIYAMAN,Turkey</td>\n",
       "      <td>[vücut, kalsiy, 99, ’, u, kemik, diş, ger, kal...</td>\n",
       "      <td></td>\n",
       "      <td></td>\n",
       "    </tr>\n",
       "  </tbody>\n",
       "</table>\n",
       "</div>"
      ],
      "text/plain": [
       "                                                Text  \\\n",
       "0  sağlıklıyaşami̇puçları egzersiz yaparken öğünd...   \n",
       "1         alarm çalmadan uyanmaya var mısın medigard   \n",
       "2  vücuttaki koenzimq10 eksikliğini önlemek günlü...   \n",
       "3  enerjinin evrimine tanıklık etmeye dersin medi...   \n",
       "4  vücuttaki kalsiyumun 99’u kemiklerde dişlerde ...   \n",
       "\n",
       "                        Date      Geolocation  \\\n",
       "0  2017-01-31 12:08:22+00:00  ADIYAMAN,Turkey   \n",
       "1  2017-01-30 07:02:46+00:00  ADIYAMAN,Turkey   \n",
       "2  2017-01-27 12:50:59+00:00  ADIYAMAN,Turkey   \n",
       "3  2017-01-26 10:00:27+00:00  ADIYAMAN,Turkey   \n",
       "4  2017-01-25 12:25:28+00:00  ADIYAMAN,Turkey   \n",
       "\n",
       "                                          text_token                neg  \\\n",
       "0  [sağlıklıyaşami̇puç, egzersiz, yapar, ök, prot...                      \n",
       "1         [alarm, çalma, uyanma, var, mı, medigardı]       alarm, çalma   \n",
       "2  [vücut, koenzimq10, eksiklik, önlemek, günlük,...  önlemek, eksiklik   \n",
       "3  [enerji, evrim, tanıklık, etme, der, medigardı...                      \n",
       "4  [vücut, kalsiy, 99, ’, u, kemik, diş, ger, kal...                      \n",
       "\n",
       "      pos  \n",
       "0          \n",
       "1     var  \n",
       "2          \n",
       "3  enerji  \n",
       "4          "
      ]
     },
     "execution_count": 15,
     "metadata": {},
     "output_type": "execute_result"
    }
   ],
   "source": [
    "def pos_finder(x):\n",
    "    df_words = set(\" \".join(x).split(\" \"))\n",
    "    extract_words =  set(neg.eski.to_list()).intersection(df_words)\n",
    "    return ', '.join(extract_words)\n",
    "def neg_finder(x):\n",
    "    df_words = set(\" \".join(x).split(\" \"))\n",
    "    extract_words =  set(pos.olan.to_list()).intersection(df_words)\n",
    "    return ', '.join(extract_words)\n",
    "df['neg'] = df.text_token.apply(pos_finder)\n",
    "df['pos'] = df.text_token.apply(neg_finder)\n",
    "df.head()"
   ]
  },
  {
   "cell_type": "code",
   "execution_count": null,
   "metadata": {},
   "outputs": [],
   "source": []
  },
  {
   "cell_type": "markdown",
   "metadata": {},
   "source": [
    "### Polarity Calculate"
   ]
  },
  {
   "cell_type": "code",
   "execution_count": 16,
   "metadata": {},
   "outputs": [],
   "source": [
    "def fixNeg(neg):\n",
    "    if not (len(neg)==0):\n",
    "        return len(neg.split(','))\n",
    "    else:\n",
    "        return 0\n",
    "def fixPos(pos):\n",
    "    if not (len(pos)==0):\n",
    "        return len(pos.split(','))\n",
    "    else:\n",
    "        return 0\n",
    "df[\"len_neg\"]=df.neg.map(fixNeg)\n",
    "df[\"len_pos\"]=df.pos.map(fixPos)"
   ]
  },
  {
   "cell_type": "code",
   "execution_count": 17,
   "metadata": {},
   "outputs": [
    {
     "data": {
      "text/html": [
       "<div>\n",
       "<style scoped>\n",
       "    .dataframe tbody tr th:only-of-type {\n",
       "        vertical-align: middle;\n",
       "    }\n",
       "\n",
       "    .dataframe tbody tr th {\n",
       "        vertical-align: top;\n",
       "    }\n",
       "\n",
       "    .dataframe thead th {\n",
       "        text-align: right;\n",
       "    }\n",
       "</style>\n",
       "<table border=\"1\" class=\"dataframe\">\n",
       "  <thead>\n",
       "    <tr style=\"text-align: right;\">\n",
       "      <th></th>\n",
       "      <th>Text</th>\n",
       "      <th>Date</th>\n",
       "      <th>Geolocation</th>\n",
       "      <th>text_token</th>\n",
       "      <th>neg</th>\n",
       "      <th>pos</th>\n",
       "      <th>len_neg</th>\n",
       "      <th>len_pos</th>\n",
       "    </tr>\n",
       "  </thead>\n",
       "  <tbody>\n",
       "    <tr>\n",
       "      <th>0</th>\n",
       "      <td>sağlıklıyaşami̇puçları egzersiz yaparken öğünd...</td>\n",
       "      <td>2017-01-31 12:08:22+00:00</td>\n",
       "      <td>ADIYAMAN,Turkey</td>\n",
       "      <td>[sağlıklıyaşami̇puç, egzersiz, yapar, ök, prot...</td>\n",
       "      <td></td>\n",
       "      <td></td>\n",
       "      <td>0</td>\n",
       "      <td>0</td>\n",
       "    </tr>\n",
       "    <tr>\n",
       "      <th>1</th>\n",
       "      <td>alarm çalmadan uyanmaya var mısın medigard</td>\n",
       "      <td>2017-01-30 07:02:46+00:00</td>\n",
       "      <td>ADIYAMAN,Turkey</td>\n",
       "      <td>[alarm, çalma, uyanma, var, mı, medigardı]</td>\n",
       "      <td>alarm, çalma</td>\n",
       "      <td>var</td>\n",
       "      <td>2</td>\n",
       "      <td>1</td>\n",
       "    </tr>\n",
       "    <tr>\n",
       "      <th>2</th>\n",
       "      <td>vücuttaki koenzimq10 eksikliğini önlemek günlü...</td>\n",
       "      <td>2017-01-27 12:50:59+00:00</td>\n",
       "      <td>ADIYAMAN,Turkey</td>\n",
       "      <td>[vücut, koenzimq10, eksiklik, önlemek, günlük,...</td>\n",
       "      <td>önlemek, eksiklik</td>\n",
       "      <td></td>\n",
       "      <td>2</td>\n",
       "      <td>0</td>\n",
       "    </tr>\n",
       "    <tr>\n",
       "      <th>3</th>\n",
       "      <td>enerjinin evrimine tanıklık etmeye dersin medi...</td>\n",
       "      <td>2017-01-26 10:00:27+00:00</td>\n",
       "      <td>ADIYAMAN,Turkey</td>\n",
       "      <td>[enerji, evrim, tanıklık, etme, der, medigardı...</td>\n",
       "      <td></td>\n",
       "      <td>enerji</td>\n",
       "      <td>0</td>\n",
       "      <td>1</td>\n",
       "    </tr>\n",
       "    <tr>\n",
       "      <th>4</th>\n",
       "      <td>vücuttaki kalsiyumun 99’u kemiklerde dişlerde ...</td>\n",
       "      <td>2017-01-25 12:25:28+00:00</td>\n",
       "      <td>ADIYAMAN,Turkey</td>\n",
       "      <td>[vücut, kalsiy, 99, ’, u, kemik, diş, ger, kal...</td>\n",
       "      <td></td>\n",
       "      <td></td>\n",
       "      <td>0</td>\n",
       "      <td>0</td>\n",
       "    </tr>\n",
       "  </tbody>\n",
       "</table>\n",
       "</div>"
      ],
      "text/plain": [
       "                                                Text  \\\n",
       "0  sağlıklıyaşami̇puçları egzersiz yaparken öğünd...   \n",
       "1         alarm çalmadan uyanmaya var mısın medigard   \n",
       "2  vücuttaki koenzimq10 eksikliğini önlemek günlü...   \n",
       "3  enerjinin evrimine tanıklık etmeye dersin medi...   \n",
       "4  vücuttaki kalsiyumun 99’u kemiklerde dişlerde ...   \n",
       "\n",
       "                        Date      Geolocation  \\\n",
       "0  2017-01-31 12:08:22+00:00  ADIYAMAN,Turkey   \n",
       "1  2017-01-30 07:02:46+00:00  ADIYAMAN,Turkey   \n",
       "2  2017-01-27 12:50:59+00:00  ADIYAMAN,Turkey   \n",
       "3  2017-01-26 10:00:27+00:00  ADIYAMAN,Turkey   \n",
       "4  2017-01-25 12:25:28+00:00  ADIYAMAN,Turkey   \n",
       "\n",
       "                                          text_token                neg  \\\n",
       "0  [sağlıklıyaşami̇puç, egzersiz, yapar, ök, prot...                      \n",
       "1         [alarm, çalma, uyanma, var, mı, medigardı]       alarm, çalma   \n",
       "2  [vücut, koenzimq10, eksiklik, önlemek, günlük,...  önlemek, eksiklik   \n",
       "3  [enerji, evrim, tanıklık, etme, der, medigardı...                      \n",
       "4  [vücut, kalsiy, 99, ’, u, kemik, diş, ger, kal...                      \n",
       "\n",
       "      pos  len_neg  len_pos  \n",
       "0                0        0  \n",
       "1     var        2        1  \n",
       "2                2        0  \n",
       "3  enerji        0        1  \n",
       "4                0        0  "
      ]
     },
     "execution_count": 17,
     "metadata": {},
     "output_type": "execute_result"
    }
   ],
   "source": [
    "df.head()"
   ]
  },
  {
   "cell_type": "markdown",
   "metadata": {},
   "source": [
    "#### My method here is as follows: If there is no positive or negative word, that twit is either irrelevant or it is a language other than Turkish."
   ]
  },
  {
   "cell_type": "code",
   "execution_count": 19,
   "metadata": {},
   "outputs": [],
   "source": [
    "df=df[~((df.len_neg==0) & (df.len_pos==0))]"
   ]
  },
  {
   "cell_type": "code",
   "execution_count": 18,
   "metadata": {},
   "outputs": [],
   "source": [
    "df['Text_count'] = df['Text'].str.split().apply(len).value_counts()\n",
    "df['polarity'] = df['len_pos'] - df['len_neg']\n",
    "df['sent_rate']=(df['len_pos'] + df['len_neg'])/ df['Text_count']"
   ]
  },
  {
   "cell_type": "code",
   "execution_count": 20,
   "metadata": {},
   "outputs": [
    {
     "data": {
      "text/html": [
       "<div>\n",
       "<style scoped>\n",
       "    .dataframe tbody tr th:only-of-type {\n",
       "        vertical-align: middle;\n",
       "    }\n",
       "\n",
       "    .dataframe tbody tr th {\n",
       "        vertical-align: top;\n",
       "    }\n",
       "\n",
       "    .dataframe thead th {\n",
       "        text-align: right;\n",
       "    }\n",
       "</style>\n",
       "<table border=\"1\" class=\"dataframe\">\n",
       "  <thead>\n",
       "    <tr style=\"text-align: right;\">\n",
       "      <th></th>\n",
       "      <th>Text</th>\n",
       "      <th>Date</th>\n",
       "      <th>Geolocation</th>\n",
       "      <th>text_token</th>\n",
       "      <th>neg</th>\n",
       "      <th>pos</th>\n",
       "      <th>len_neg</th>\n",
       "      <th>len_pos</th>\n",
       "      <th>Text_count</th>\n",
       "      <th>polarity</th>\n",
       "      <th>sent_rate</th>\n",
       "    </tr>\n",
       "  </thead>\n",
       "  <tbody>\n",
       "    <tr>\n",
       "      <th>1</th>\n",
       "      <td>alarm çalmadan uyanmaya var mısın medigard</td>\n",
       "      <td>2017-01-30 07:02:46+00:00</td>\n",
       "      <td>ADIYAMAN,Turkey</td>\n",
       "      <td>[alarm, çalma, uyanma, var, mı, medigardı]</td>\n",
       "      <td>alarm, çalma</td>\n",
       "      <td>var</td>\n",
       "      <td>2</td>\n",
       "      <td>1</td>\n",
       "      <td>193.0</td>\n",
       "      <td>-1</td>\n",
       "      <td>0.015544</td>\n",
       "    </tr>\n",
       "    <tr>\n",
       "      <th>2</th>\n",
       "      <td>vücuttaki koenzimq10 eksikliğini önlemek günlü...</td>\n",
       "      <td>2017-01-27 12:50:59+00:00</td>\n",
       "      <td>ADIYAMAN,Turkey</td>\n",
       "      <td>[vücut, koenzimq10, eksiklik, önlemek, günlük,...</td>\n",
       "      <td>önlemek, eksiklik</td>\n",
       "      <td></td>\n",
       "      <td>2</td>\n",
       "      <td>0</td>\n",
       "      <td>212.0</td>\n",
       "      <td>-2</td>\n",
       "      <td>0.009434</td>\n",
       "    </tr>\n",
       "    <tr>\n",
       "      <th>3</th>\n",
       "      <td>enerjinin evrimine tanıklık etmeye dersin medi...</td>\n",
       "      <td>2017-01-26 10:00:27+00:00</td>\n",
       "      <td>ADIYAMAN,Turkey</td>\n",
       "      <td>[enerji, evrim, tanıklık, etme, der, medigardı...</td>\n",
       "      <td></td>\n",
       "      <td>enerji</td>\n",
       "      <td>0</td>\n",
       "      <td>1</td>\n",
       "      <td>312.0</td>\n",
       "      <td>1</td>\n",
       "      <td>0.003205</td>\n",
       "    </tr>\n",
       "    <tr>\n",
       "      <th>5</th>\n",
       "      <td>düzenli olarak yapılan egzersizler günlük temp...</td>\n",
       "      <td>2017-01-24 12:39:34+00:00</td>\n",
       "      <td>ADIYAMAN,Turkey</td>\n",
       "      <td>[düzenli, olarak, yapıla, egzersiz, günlük, te...</td>\n",
       "      <td></td>\n",
       "      <td>düzenli, enerjik, sağ</td>\n",
       "      <td>0</td>\n",
       "      <td>3</td>\n",
       "      <td>457.0</td>\n",
       "      <td>3</td>\n",
       "      <td>0.006565</td>\n",
       "    </tr>\n",
       "    <tr>\n",
       "      <th>6</th>\n",
       "      <td>başarıya ulaşmak zor değil</td>\n",
       "      <td>2017-01-23 12:37:44+00:00</td>\n",
       "      <td>ADIYAMAN,Turkey</td>\n",
       "      <td>[başarı, ulaşmak, zor, değil]</td>\n",
       "      <td>zor</td>\n",
       "      <td>başarı</td>\n",
       "      <td>1</td>\n",
       "      <td>1</td>\n",
       "      <td>867.0</td>\n",
       "      <td>0</td>\n",
       "      <td>0.002307</td>\n",
       "    </tr>\n",
       "  </tbody>\n",
       "</table>\n",
       "</div>"
      ],
      "text/plain": [
       "                                                Text  \\\n",
       "1         alarm çalmadan uyanmaya var mısın medigard   \n",
       "2  vücuttaki koenzimq10 eksikliğini önlemek günlü...   \n",
       "3  enerjinin evrimine tanıklık etmeye dersin medi...   \n",
       "5  düzenli olarak yapılan egzersizler günlük temp...   \n",
       "6                         başarıya ulaşmak zor değil   \n",
       "\n",
       "                        Date      Geolocation  \\\n",
       "1  2017-01-30 07:02:46+00:00  ADIYAMAN,Turkey   \n",
       "2  2017-01-27 12:50:59+00:00  ADIYAMAN,Turkey   \n",
       "3  2017-01-26 10:00:27+00:00  ADIYAMAN,Turkey   \n",
       "5  2017-01-24 12:39:34+00:00  ADIYAMAN,Turkey   \n",
       "6  2017-01-23 12:37:44+00:00  ADIYAMAN,Turkey   \n",
       "\n",
       "                                          text_token                neg  \\\n",
       "1         [alarm, çalma, uyanma, var, mı, medigardı]       alarm, çalma   \n",
       "2  [vücut, koenzimq10, eksiklik, önlemek, günlük,...  önlemek, eksiklik   \n",
       "3  [enerji, evrim, tanıklık, etme, der, medigardı...                      \n",
       "5  [düzenli, olarak, yapıla, egzersiz, günlük, te...                      \n",
       "6                      [başarı, ulaşmak, zor, değil]                zor   \n",
       "\n",
       "                     pos  len_neg  len_pos  Text_count  polarity  sent_rate  \n",
       "1                    var        2        1       193.0        -1   0.015544  \n",
       "2                               2        0       212.0        -2   0.009434  \n",
       "3                 enerji        0        1       312.0         1   0.003205  \n",
       "5  düzenli, enerjik, sağ        0        3       457.0         3   0.006565  \n",
       "6                 başarı        1        1       867.0         0   0.002307  "
      ]
     },
     "execution_count": 20,
     "metadata": {},
     "output_type": "execute_result"
    }
   ],
   "source": [
    "df.head()"
   ]
  },
  {
   "cell_type": "code",
   "execution_count": 155,
   "metadata": {},
   "outputs": [],
   "source": [
    "sent_vit=pd.DataFrame(new_df.groupby([\"Location\",'Date'])['polarity'].mean().reset_index())"
   ]
  },
  {
   "cell_type": "code",
   "execution_count": 156,
   "metadata": {},
   "outputs": [
    {
     "data": {
      "text/html": [
       "<div>\n",
       "<style scoped>\n",
       "    .dataframe tbody tr th:only-of-type {\n",
       "        vertical-align: middle;\n",
       "    }\n",
       "\n",
       "    .dataframe tbody tr th {\n",
       "        vertical-align: top;\n",
       "    }\n",
       "\n",
       "    .dataframe thead th {\n",
       "        text-align: right;\n",
       "    }\n",
       "</style>\n",
       "<table border=\"1\" class=\"dataframe\">\n",
       "  <thead>\n",
       "    <tr style=\"text-align: right;\">\n",
       "      <th></th>\n",
       "      <th>Location</th>\n",
       "      <th>Date</th>\n",
       "      <th>polarity</th>\n",
       "    </tr>\n",
       "  </thead>\n",
       "  <tbody>\n",
       "    <tr>\n",
       "      <th>2676</th>\n",
       "      <td>Adıyaman,Turkey</td>\n",
       "      <td>2020-03-31 20:04:10+00:00</td>\n",
       "      <td>4.0</td>\n",
       "    </tr>\n",
       "    <tr>\n",
       "      <th>2342</th>\n",
       "      <td>Adıyaman,Turkey</td>\n",
       "      <td>2020-03-31 18:37:15+00:00</td>\n",
       "      <td>4.0</td>\n",
       "    </tr>\n",
       "    <tr>\n",
       "      <th>149</th>\n",
       "      <td>Adıyaman,Turkey</td>\n",
       "      <td>2020-03-31 09:00:55+00:00</td>\n",
       "      <td>4.0</td>\n",
       "    </tr>\n",
       "    <tr>\n",
       "      <th>1066</th>\n",
       "      <td>Adıyaman,Turkey</td>\n",
       "      <td>2020-03-31 13:43:03+00:00</td>\n",
       "      <td>4.0</td>\n",
       "    </tr>\n",
       "    <tr>\n",
       "      <th>2427</th>\n",
       "      <td>Adıyaman,Turkey</td>\n",
       "      <td>2020-03-31 18:57:32+00:00</td>\n",
       "      <td>4.0</td>\n",
       "    </tr>\n",
       "    <tr>\n",
       "      <th>180</th>\n",
       "      <td>Adıyaman,Turkey</td>\n",
       "      <td>2020-03-31 09:10:04+00:00</td>\n",
       "      <td>4.0</td>\n",
       "    </tr>\n",
       "    <tr>\n",
       "      <th>538</th>\n",
       "      <td>Adıyaman,Turkey</td>\n",
       "      <td>2020-03-31 11:14:06+00:00</td>\n",
       "      <td>3.0</td>\n",
       "    </tr>\n",
       "    <tr>\n",
       "      <th>2390</th>\n",
       "      <td>Adıyaman,Turkey</td>\n",
       "      <td>2020-03-31 18:49:46+00:00</td>\n",
       "      <td>3.0</td>\n",
       "    </tr>\n",
       "    <tr>\n",
       "      <th>2173</th>\n",
       "      <td>Adıyaman,Turkey</td>\n",
       "      <td>2020-03-31 17:52:25+00:00</td>\n",
       "      <td>3.0</td>\n",
       "    </tr>\n",
       "    <tr>\n",
       "      <th>2583</th>\n",
       "      <td>Adıyaman,Turkey</td>\n",
       "      <td>2020-03-31 19:37:45+00:00</td>\n",
       "      <td>3.0</td>\n",
       "    </tr>\n",
       "  </tbody>\n",
       "</table>\n",
       "</div>"
      ],
      "text/plain": [
       "             Location                      Date  polarity\n",
       "2676  Adıyaman,Turkey 2020-03-31 20:04:10+00:00       4.0\n",
       "2342  Adıyaman,Turkey 2020-03-31 18:37:15+00:00       4.0\n",
       "149   Adıyaman,Turkey 2020-03-31 09:00:55+00:00       4.0\n",
       "1066  Adıyaman,Turkey 2020-03-31 13:43:03+00:00       4.0\n",
       "2427  Adıyaman,Turkey 2020-03-31 18:57:32+00:00       4.0\n",
       "180   Adıyaman,Turkey 2020-03-31 09:10:04+00:00       4.0\n",
       "538   Adıyaman,Turkey 2020-03-31 11:14:06+00:00       3.0\n",
       "2390  Adıyaman,Turkey 2020-03-31 18:49:46+00:00       3.0\n",
       "2173  Adıyaman,Turkey 2020-03-31 17:52:25+00:00       3.0\n",
       "2583  Adıyaman,Turkey 2020-03-31 19:37:45+00:00       3.0"
      ]
     },
     "execution_count": 156,
     "metadata": {},
     "output_type": "execute_result"
    }
   ],
   "source": [
    "sent_vit.sort_values(by=[\"polarity\"],ascending=False).head(10)"
   ]
  },
  {
   "cell_type": "markdown",
   "metadata": {},
   "source": [
    "## Analysis Of Tweet Datas\n",
    "Most of the Medigard tweets consist of repetitive advertisements and there are only 4 comments. As an important twit, the 2017-18 league, which medigard sponsored the Eczacıbaşı volleyball team, was found to be remarkable."
   ]
  },
  {
   "cell_type": "code",
   "execution_count": 277,
   "metadata": {},
   "outputs": [],
   "source": [
    "sent_vit.to_csv(\"mediagard_sent.csv\")"
   ]
  },
  {
   "cell_type": "markdown",
   "metadata": {},
   "source": [
    "## I created a function for each incoming twit set."
   ]
  },
  {
   "cell_type": "code",
   "execution_count": 18,
   "metadata": {},
   "outputs": [],
   "source": [
    "WPT = nltk.WordPunctTokenizer()\n",
    "stop_word_list = nltk.corpus.stopwords.words('turkish')\n",
    "neg=pd.read_csv('negative_words_tr.txt')\n",
    "pos=pd.read_csv('positive_words_tr.txt')\n",
    "def token(values):\n",
    "    filtered_words = [word for word in values.split() if word not in stop_word_list]\n",
    "    not_stopword_doc = \" \".join(filtered_words)\n",
    "    return not_stopword_doc\n",
    "def stemming_tokenizer(text): \n",
    "    stemmer = TurkishStemmer()\n",
    "    return [stemmer.stemWord(w) for w in word_tokenize(text)]\n",
    "def pos_finder(x):\n",
    "    df_words = set(\" \".join(x).split(\" \"))\n",
    "    extract_words =  set(neg.eski.to_list()).intersection(df_words)\n",
    "    return ', '.join(extract_words)\n",
    "def neg_finder(x):\n",
    "    df_words = set(\" \".join(x).split(\" \"))\n",
    "    extract_words =  set(pos.olan.to_list()).intersection(df_words)\n",
    "    return ', '.join(extract_words)\n",
    "def fixNeg(neg):\n",
    "    if not (len(neg)==0):\n",
    "        return len(neg.split(','))\n",
    "    else:\n",
    "        return 0\n",
    "def fixPos(pos):\n",
    "    if not (len(pos)==0):\n",
    "        return len(pos.split(','))\n",
    "    else:\n",
    "        return 0"
   ]
  },
  {
   "cell_type": "code",
   "execution_count": 19,
   "metadata": {},
   "outputs": [],
   "source": [
    "# Yukarıdaki işlemleri fonksiyon haline getirdim."
   ]
  },
  {
   "cell_type": "code",
   "execution_count": 22,
   "metadata": {},
   "outputs": [],
   "source": [
    "def calculatePolarity(df):\n",
    "    df=df.drop(columns=['Unnamed: 0'])\n",
    "    df=df.drop(columns=[\"Hashtags\"])\n",
    "    df=df.dropna()\n",
    "    #df.info()\n",
    "    df=df[df[\"Date\"]<\"2020-04-01\"] # Garanti\n",
    "    #df.Geolocation=df.Geolocation.map(fixGeo)\n",
    "    df=df.drop_duplicates()\n",
    "    WPT = nltk.WordPunctTokenizer()\n",
    "    stop_word_list = nltk.corpus.stopwords.words('turkish')\n",
    "\n",
    "\n",
    "    docs = df['Text']\n",
    "    docs = docs.map(lambda x: re.sub('[,\\.!?();:$%&#\"]', '', x)) #punc are removed\n",
    "    docs = docs.map(lambda x: x.lower()) # küçük harf\n",
    "    docs = docs.map(lambda x: x.strip())\n",
    "\n",
    "    #stopwords are removed\n",
    "    docs = docs.map(lambda x: token(x))\n",
    "    df['Text'] = docs\n",
    "    df['text_token'] = df['Text'].apply(lambda text: stemming_tokenizer(text))\n",
    "    df['neg'] = df.text_token.apply(pos_finder)\n",
    "    df['pos'] = df.text_token.apply(neg_finder)\n",
    "    df[\"len_neg\"]=df.neg.map(fixNeg)\n",
    "    df[\"len_pos\"]=df.pos.map(fixPos)\n",
    "    df['Text_count'] = df['Text'].str.split().apply(len).value_counts()\n",
    "    df['polarity'] = df['len_pos'] - df['len_neg']\n",
    "    df['sent_rate']=(df['len_pos'] + df['len_neg'])/ df['Text_count']\n",
    "    zero=df.loc[((df.len_neg==0) & (df.len_pos==0)),:].index.to_list()\n",
    "    df=df.drop(zero,axis=0)\n",
    "    sent_vit=pd.DataFrame(df.groupby([\"Geolocation\",'Date'])['polarity'].mean().reset_index())\n",
    "\n",
    "    \n",
    "    return sent_vit\n",
    "    \n",
    "    "
   ]
  },
  {
   "cell_type": "code",
   "execution_count": 23,
   "metadata": {},
   "outputs": [
    {
     "data": {
      "text/html": [
       "<div>\n",
       "<style scoped>\n",
       "    .dataframe tbody tr th:only-of-type {\n",
       "        vertical-align: middle;\n",
       "    }\n",
       "\n",
       "    .dataframe tbody tr th {\n",
       "        vertical-align: top;\n",
       "    }\n",
       "\n",
       "    .dataframe thead th {\n",
       "        text-align: right;\n",
       "    }\n",
       "</style>\n",
       "<table border=\"1\" class=\"dataframe\">\n",
       "  <thead>\n",
       "    <tr style=\"text-align: right;\">\n",
       "      <th></th>\n",
       "      <th>Geolocation</th>\n",
       "      <th>Date</th>\n",
       "      <th>polarity</th>\n",
       "    </tr>\n",
       "  </thead>\n",
       "  <tbody>\n",
       "    <tr>\n",
       "      <th>0</th>\n",
       "      <td>ADIYAMAN,Turkey</td>\n",
       "      <td>2017-01-05 06:39:54+00:00</td>\n",
       "      <td>2</td>\n",
       "    </tr>\n",
       "    <tr>\n",
       "      <th>1</th>\n",
       "      <td>ADIYAMAN,Turkey</td>\n",
       "      <td>2017-01-17 12:03:15+00:00</td>\n",
       "      <td>1</td>\n",
       "    </tr>\n",
       "    <tr>\n",
       "      <th>2</th>\n",
       "      <td>ADIYAMAN,Turkey</td>\n",
       "      <td>2017-01-19 12:13:53+00:00</td>\n",
       "      <td>3</td>\n",
       "    </tr>\n",
       "    <tr>\n",
       "      <th>3</th>\n",
       "      <td>ADIYAMAN,Turkey</td>\n",
       "      <td>2017-01-20 12:55:23+00:00</td>\n",
       "      <td>1</td>\n",
       "    </tr>\n",
       "    <tr>\n",
       "      <th>4</th>\n",
       "      <td>ADIYAMAN,Turkey</td>\n",
       "      <td>2017-01-23 12:37:44+00:00</td>\n",
       "      <td>0</td>\n",
       "    </tr>\n",
       "    <tr>\n",
       "      <th>...</th>\n",
       "      <td>...</td>\n",
       "      <td>...</td>\n",
       "      <td>...</td>\n",
       "    </tr>\n",
       "    <tr>\n",
       "      <th>3170</th>\n",
       "      <td>ŞIRNAK,Turkey</td>\n",
       "      <td>2020-02-26 07:31:04+00:00</td>\n",
       "      <td>0</td>\n",
       "    </tr>\n",
       "    <tr>\n",
       "      <th>3171</th>\n",
       "      <td>ŞIRNAK,Turkey</td>\n",
       "      <td>2020-02-28 07:00:40+00:00</td>\n",
       "      <td>2</td>\n",
       "    </tr>\n",
       "    <tr>\n",
       "      <th>3172</th>\n",
       "      <td>ŞIRNAK,Turkey</td>\n",
       "      <td>2020-02-29 01:24:21+00:00</td>\n",
       "      <td>-1</td>\n",
       "    </tr>\n",
       "    <tr>\n",
       "      <th>3173</th>\n",
       "      <td>ŞIRNAK,Turkey</td>\n",
       "      <td>2020-03-16 15:09:13+00:00</td>\n",
       "      <td>2</td>\n",
       "    </tr>\n",
       "    <tr>\n",
       "      <th>3174</th>\n",
       "      <td>ŞIRNAK,Turkey</td>\n",
       "      <td>2020-03-27 10:33:09+00:00</td>\n",
       "      <td>0</td>\n",
       "    </tr>\n",
       "  </tbody>\n",
       "</table>\n",
       "<p>3175 rows × 3 columns</p>\n",
       "</div>"
      ],
      "text/plain": [
       "          Geolocation                       Date  polarity\n",
       "0     ADIYAMAN,Turkey  2017-01-05 06:39:54+00:00         2\n",
       "1     ADIYAMAN,Turkey  2017-01-17 12:03:15+00:00         1\n",
       "2     ADIYAMAN,Turkey  2017-01-19 12:13:53+00:00         3\n",
       "3     ADIYAMAN,Turkey  2017-01-20 12:55:23+00:00         1\n",
       "4     ADIYAMAN,Turkey  2017-01-23 12:37:44+00:00         0\n",
       "...               ...                        ...       ...\n",
       "3170    ŞIRNAK,Turkey  2020-02-26 07:31:04+00:00         0\n",
       "3171    ŞIRNAK,Turkey  2020-02-28 07:00:40+00:00         2\n",
       "3172    ŞIRNAK,Turkey  2020-02-29 01:24:21+00:00        -1\n",
       "3173    ŞIRNAK,Turkey  2020-03-16 15:09:13+00:00         2\n",
       "3174    ŞIRNAK,Turkey  2020-03-27 10:33:09+00:00         0\n",
       "\n",
       "[3175 rows x 3 columns]"
      ]
     },
     "execution_count": 23,
     "metadata": {},
     "output_type": "execute_result"
    }
   ],
   "source": [
    "deneme=pd.read_csv(\"Sentiment-Data/medigard_twitter.csv\")\n",
    "calculatePolarity(deneme)"
   ]
  },
  {
   "cell_type": "code",
   "execution_count": 192,
   "metadata": {},
   "outputs": [],
   "source": [
    "vit_tw=pd.read_csv(\"v.csv\")"
   ]
  },
  {
   "cell_type": "code",
   "execution_count": 193,
   "metadata": {},
   "outputs": [
    {
     "data": {
      "text/html": [
       "<div>\n",
       "<style scoped>\n",
       "    .dataframe tbody tr th:only-of-type {\n",
       "        vertical-align: middle;\n",
       "    }\n",
       "\n",
       "    .dataframe tbody tr th {\n",
       "        vertical-align: top;\n",
       "    }\n",
       "\n",
       "    .dataframe thead th {\n",
       "        text-align: right;\n",
       "    }\n",
       "</style>\n",
       "<table border=\"1\" class=\"dataframe\">\n",
       "  <thead>\n",
       "    <tr style=\"text-align: right;\">\n",
       "      <th></th>\n",
       "      <th>Location</th>\n",
       "      <th>Date</th>\n",
       "      <th>polarity</th>\n",
       "    </tr>\n",
       "  </thead>\n",
       "  <tbody>\n",
       "    <tr>\n",
       "      <th>0</th>\n",
       "      <td>Adana,Turkey</td>\n",
       "      <td>2017-07-10 13:08:27+00:00</td>\n",
       "      <td>-1.0</td>\n",
       "    </tr>\n",
       "    <tr>\n",
       "      <th>1</th>\n",
       "      <td>Adana,Turkey</td>\n",
       "      <td>2017-07-11 08:06:49+00:00</td>\n",
       "      <td>-1.0</td>\n",
       "    </tr>\n",
       "    <tr>\n",
       "      <th>2</th>\n",
       "      <td>Adana,Turkey</td>\n",
       "      <td>2017-08-23 20:38:29+00:00</td>\n",
       "      <td>1.0</td>\n",
       "    </tr>\n",
       "    <tr>\n",
       "      <th>3</th>\n",
       "      <td>Adana,Turkey</td>\n",
       "      <td>2017-11-23 10:21:39+00:00</td>\n",
       "      <td>-1.0</td>\n",
       "    </tr>\n",
       "    <tr>\n",
       "      <th>4</th>\n",
       "      <td>Adana,Turkey</td>\n",
       "      <td>2018-08-04 06:48:24+00:00</td>\n",
       "      <td>-2.0</td>\n",
       "    </tr>\n",
       "  </tbody>\n",
       "</table>\n",
       "</div>"
      ],
      "text/plain": [
       "       Location                       Date  polarity\n",
       "0  Adana,Turkey  2017-07-10 13:08:27+00:00      -1.0\n",
       "1  Adana,Turkey  2017-07-11 08:06:49+00:00      -1.0\n",
       "2  Adana,Turkey  2017-08-23 20:38:29+00:00       1.0\n",
       "3  Adana,Turkey  2017-11-23 10:21:39+00:00      -1.0\n",
       "4  Adana,Turkey  2018-08-04 06:48:24+00:00      -2.0"
      ]
     },
     "execution_count": 193,
     "metadata": {},
     "output_type": "execute_result"
    }
   ],
   "source": [
    "vit_tw=calculatePolarity(vit_tw)\n",
    "vit_tw.head()"
   ]
  },
  {
   "cell_type": "code",
   "execution_count": 196,
   "metadata": {},
   "outputs": [
    {
     "data": {
      "text/html": [
       "<div>\n",
       "<style scoped>\n",
       "    .dataframe tbody tr th:only-of-type {\n",
       "        vertical-align: middle;\n",
       "    }\n",
       "\n",
       "    .dataframe tbody tr th {\n",
       "        vertical-align: top;\n",
       "    }\n",
       "\n",
       "    .dataframe thead th {\n",
       "        text-align: right;\n",
       "    }\n",
       "</style>\n",
       "<table border=\"1\" class=\"dataframe\">\n",
       "  <thead>\n",
       "    <tr style=\"text-align: right;\">\n",
       "      <th></th>\n",
       "      <th>Location</th>\n",
       "      <th>Date</th>\n",
       "      <th>polarity</th>\n",
       "    </tr>\n",
       "  </thead>\n",
       "  <tbody>\n",
       "    <tr>\n",
       "      <th>798</th>\n",
       "      <td>Kocaeli,Turkey</td>\n",
       "      <td>2019-05-14 08:23:47+00:00</td>\n",
       "      <td>8.0</td>\n",
       "    </tr>\n",
       "    <tr>\n",
       "      <th>788</th>\n",
       "      <td>Kocaeli,Turkey</td>\n",
       "      <td>2019-03-22 09:22:33+00:00</td>\n",
       "      <td>6.0</td>\n",
       "    </tr>\n",
       "    <tr>\n",
       "      <th>817</th>\n",
       "      <td>Kocaeli,Turkey</td>\n",
       "      <td>2020-03-25 14:31:17+00:00</td>\n",
       "      <td>5.0</td>\n",
       "    </tr>\n",
       "    <tr>\n",
       "      <th>1287</th>\n",
       "      <td>İstanbul,Turkey</td>\n",
       "      <td>2020-03-27 10:05:54+00:00</td>\n",
       "      <td>5.0</td>\n",
       "    </tr>\n",
       "    <tr>\n",
       "      <th>794</th>\n",
       "      <td>Kocaeli,Turkey</td>\n",
       "      <td>2019-04-16 06:17:12+00:00</td>\n",
       "      <td>5.0</td>\n",
       "    </tr>\n",
       "  </tbody>\n",
       "</table>\n",
       "</div>"
      ],
      "text/plain": [
       "             Location                       Date  polarity\n",
       "798    Kocaeli,Turkey  2019-05-14 08:23:47+00:00       8.0\n",
       "788    Kocaeli,Turkey  2019-03-22 09:22:33+00:00       6.0\n",
       "817    Kocaeli,Turkey  2020-03-25 14:31:17+00:00       5.0\n",
       "1287  İstanbul,Turkey  2020-03-27 10:05:54+00:00       5.0\n",
       "794    Kocaeli,Turkey  2019-04-16 06:17:12+00:00       5.0"
      ]
     },
     "execution_count": 196,
     "metadata": {},
     "output_type": "execute_result"
    }
   ],
   "source": [
    "vit_tw.sort_values(by=\"polarity\",ascending=False).head()"
   ]
  },
  {
   "cell_type": "code",
   "execution_count": 197,
   "metadata": {},
   "outputs": [],
   "source": [
    "vit_tw.to_csv(\"vit_sent.csv\")"
   ]
  },
  {
   "cell_type": "code",
   "execution_count": 36,
   "metadata": {},
   "outputs": [
    {
     "data": {
      "text/html": [
       "<div>\n",
       "<style scoped>\n",
       "    .dataframe tbody tr th:only-of-type {\n",
       "        vertical-align: middle;\n",
       "    }\n",
       "\n",
       "    .dataframe tbody tr th {\n",
       "        vertical-align: top;\n",
       "    }\n",
       "\n",
       "    .dataframe thead th {\n",
       "        text-align: right;\n",
       "    }\n",
       "</style>\n",
       "<table border=\"1\" class=\"dataframe\">\n",
       "  <thead>\n",
       "    <tr style=\"text-align: right;\">\n",
       "      <th></th>\n",
       "      <th>Geolocation</th>\n",
       "      <th>Date</th>\n",
       "      <th>polarity</th>\n",
       "    </tr>\n",
       "  </thead>\n",
       "  <tbody>\n",
       "    <tr>\n",
       "      <th>1135</th>\n",
       "      <td>ŞIRNAK,Turkey</td>\n",
       "      <td>2019-08-31 23:49:16+00:00</td>\n",
       "      <td>3.0</td>\n",
       "    </tr>\n",
       "    <tr>\n",
       "      <th>1008</th>\n",
       "      <td>ŞIRNAK,Turkey</td>\n",
       "      <td>2019-03-31 23:48:55+00:00</td>\n",
       "      <td>3.0</td>\n",
       "    </tr>\n",
       "    <tr>\n",
       "      <th>554</th>\n",
       "      <td>İSTANBUL,Turkey</td>\n",
       "      <td>2017-04-08 10:40:31+00:00</td>\n",
       "      <td>3.0</td>\n",
       "    </tr>\n",
       "    <tr>\n",
       "      <th>553</th>\n",
       "      <td>İSTANBUL,Turkey</td>\n",
       "      <td>2017-03-31 07:22:46+00:00</td>\n",
       "      <td>3.0</td>\n",
       "    </tr>\n",
       "    <tr>\n",
       "      <th>542</th>\n",
       "      <td>İSTANBUL,Turkey</td>\n",
       "      <td>2017-03-04 14:29:45+00:00</td>\n",
       "      <td>3.0</td>\n",
       "    </tr>\n",
       "  </tbody>\n",
       "</table>\n",
       "</div>"
      ],
      "text/plain": [
       "          Geolocation                       Date  polarity\n",
       "1135    ŞIRNAK,Turkey  2019-08-31 23:49:16+00:00       3.0\n",
       "1008    ŞIRNAK,Turkey  2019-03-31 23:48:55+00:00       3.0\n",
       "554   İSTANBUL,Turkey  2017-04-08 10:40:31+00:00       3.0\n",
       "553   İSTANBUL,Turkey  2017-03-31 07:22:46+00:00       3.0\n",
       "542   İSTANBUL,Turkey  2017-03-04 14:29:45+00:00       3.0"
      ]
     },
     "execution_count": 36,
     "metadata": {},
     "output_type": "execute_result"
    }
   ],
   "source": [
    "vit_tw.sort_values(by=\"polarity\",ascending=False).head()"
   ]
  },
  {
   "cell_type": "markdown",
   "metadata": {
    "colab": {},
    "colab_type": "code",
    "id": "L-ImnBQf71be"
   },
   "source": [
    "# Kaynaklar\n",
    "### Recources\n",
    "GetOldTweet : https://medium.com/@AIY/getoldtweets3-830ebb8b2dab\n",
    "\n",
    "Turkish-stemmer kütüphanesi türkçe kökler için : https://github.com/otuncelli/turkish-stemmer-python\n",
    "\n",
    "Pozitif-Negatif Kelimeler [Kaynak 3] : https://www.kaggle.com/rtatman/sentiment-lexicons-for-81-languages\n",
    "\n",
    "Türkçe NLP :https://pypi.org/project/turkishnlp/ "
   ]
  },
  {
   "cell_type": "code",
   "execution_count": null,
   "metadata": {},
   "outputs": [],
   "source": []
  }
 ],
 "metadata": {
  "colab": {
   "name": "twitter_nlp.ipynb",
   "provenance": []
  },
  "kernelspec": {
   "display_name": "Python 3",
   "language": "python",
   "name": "python3"
  },
  "language_info": {
   "codemirror_mode": {
    "name": "ipython",
    "version": 3
   },
   "file_extension": ".py",
   "mimetype": "text/x-python",
   "name": "python",
   "nbconvert_exporter": "python",
   "pygments_lexer": "ipython3",
   "version": "3.8.3"
  }
 },
 "nbformat": 4,
 "nbformat_minor": 4
}
