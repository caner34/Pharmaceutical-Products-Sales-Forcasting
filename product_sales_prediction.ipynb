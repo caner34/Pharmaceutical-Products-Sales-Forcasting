{
 "cells": [
  {
   "cell_type": "markdown",
   "metadata": {},
   "source": [
    "# Engenius '20 - EDA"
   ]
  },
  {
   "cell_type": "markdown",
   "metadata": {},
   "source": [
    "## Summary\n",
    "\n",
    "The Main goal is to predict the quantities sold of a set of products within a 4 months time frame."
   ]
  },
  {
   "cell_type": "code",
   "execution_count": null,
   "metadata": {},
   "outputs": [],
   "source": []
  },
  {
   "cell_type": "markdown",
   "metadata": {},
   "source": [
    "# Table Of Contents"
   ]
  },
  {
   "cell_type": "code",
   "execution_count": null,
   "metadata": {},
   "outputs": [],
   "source": []
  },
  {
   "cell_type": "markdown",
   "metadata": {},
   "source": [
    "# Exploratory Data Analysis"
   ]
  },
  {
   "cell_type": "code",
   "execution_count": 10,
   "metadata": {},
   "outputs": [],
   "source": [
    "import numpy as np\n",
    "import matplotlib.pyplot as plt\n",
    "import pandas as pd\n",
    "\n",
    "dfA = pd.read_excel(r\"C:\\Users\\bagoyem\\Desktop\\Eczacıbaşı\\pharma_sales_201719.xlsx\", sheet_name = \"PRODUCT_A\")\n",
    "dfB = pd.read_excel(r\"C:\\Users\\bagoyem\\Desktop\\Eczacıbaşı\\pharma_sales_201719.xlsx\", sheet_name = \"PRODUCT_B\")    \n",
    "dfC = pd.read_excel(r\"C:\\Users\\bagoyem\\Desktop\\Eczacıbaşı\\pharma_sales_201719.xlsx\", sheet_name = \"PRODUCT_C\")\n",
    "dfV = pd.read_excel(r\"C:\\Users\\bagoyem\\Desktop\\Eczacıbaşı\\pharma_sales_201719.xlsx\", sheet_name = \"PRODUCT_V\")\n",
    "dfX = pd.read_excel(r\"C:\\Users\\bagoyem\\Desktop\\Eczacıbaşı\\pharma_sales_201719.xlsx\", sheet_name = \"PRODUCT_X\")"
   ]
  },
  {
   "cell_type": "code",
   "execution_count": 11,
   "metadata": {},
   "outputs": [],
   "source": [
    "df = pd.concat([dfA, dfB, dfC, dfV, dfX], axis = 0, ignore_index =True) "
   ]
  },
  {
   "cell_type": "code",
   "execution_count": 12,
   "metadata": {},
   "outputs": [
    {
     "name": "stdout",
     "output_type": "stream",
     "text": [
      "<class 'pandas.core.frame.DataFrame'>\n",
      "RangeIndex: 58032 entries, 0 to 58031\n",
      "Data columns (total 5 columns):\n",
      "Year        58032 non-null int64\n",
      "Period      58032 non-null int64\n",
      "Product     58032 non-null object\n",
      "Province    58032 non-null object\n",
      "Quantity    58032 non-null int64\n",
      "dtypes: int64(3), object(2)\n",
      "memory usage: 2.2+ MB\n"
     ]
    }
   ],
   "source": [
    "df.info()"
   ]
  },
  {
   "cell_type": "code",
   "execution_count": 13,
   "metadata": {},
   "outputs": [
    {
     "data": {
      "text/html": [
       "<div>\n",
       "<style scoped>\n",
       "    .dataframe tbody tr th:only-of-type {\n",
       "        vertical-align: middle;\n",
       "    }\n",
       "\n",
       "    .dataframe tbody tr th {\n",
       "        vertical-align: top;\n",
       "    }\n",
       "\n",
       "    .dataframe thead th {\n",
       "        text-align: right;\n",
       "    }\n",
       "</style>\n",
       "<table border=\"1\" class=\"dataframe\">\n",
       "  <thead>\n",
       "    <tr style=\"text-align: right;\">\n",
       "      <th></th>\n",
       "      <th>Year</th>\n",
       "      <th>Period</th>\n",
       "      <th>Product</th>\n",
       "      <th>Province</th>\n",
       "      <th>Quantity</th>\n",
       "    </tr>\n",
       "  </thead>\n",
       "  <tbody>\n",
       "    <tr>\n",
       "      <td>0</td>\n",
       "      <td>2017</td>\n",
       "      <td>201701</td>\n",
       "      <td>PRODUCT_A</td>\n",
       "      <td>ANKARA</td>\n",
       "      <td>16</td>\n",
       "    </tr>\n",
       "    <tr>\n",
       "      <td>1</td>\n",
       "      <td>2017</td>\n",
       "      <td>201701</td>\n",
       "      <td>PRODUCT_A</td>\n",
       "      <td>ANKARA</td>\n",
       "      <td>25</td>\n",
       "    </tr>\n",
       "    <tr>\n",
       "      <td>2</td>\n",
       "      <td>2017</td>\n",
       "      <td>201701</td>\n",
       "      <td>PRODUCT_A</td>\n",
       "      <td>ANKARA</td>\n",
       "      <td>56</td>\n",
       "    </tr>\n",
       "    <tr>\n",
       "      <td>3</td>\n",
       "      <td>2017</td>\n",
       "      <td>201701</td>\n",
       "      <td>PRODUCT_A</td>\n",
       "      <td>ANKARA</td>\n",
       "      <td>16</td>\n",
       "    </tr>\n",
       "    <tr>\n",
       "      <td>4</td>\n",
       "      <td>2017</td>\n",
       "      <td>201701</td>\n",
       "      <td>PRODUCT_A</td>\n",
       "      <td>ADANA</td>\n",
       "      <td>11</td>\n",
       "    </tr>\n",
       "  </tbody>\n",
       "</table>\n",
       "</div>"
      ],
      "text/plain": [
       "   Year  Period    Product Province  Quantity\n",
       "0  2017  201701  PRODUCT_A   ANKARA        16\n",
       "1  2017  201701  PRODUCT_A   ANKARA        25\n",
       "2  2017  201701  PRODUCT_A   ANKARA        56\n",
       "3  2017  201701  PRODUCT_A   ANKARA        16\n",
       "4  2017  201701  PRODUCT_A    ADANA        11"
      ]
     },
     "execution_count": 13,
     "metadata": {},
     "output_type": "execute_result"
    }
   ],
   "source": [
    "df.head()"
   ]
  },
  {
   "cell_type": "code",
   "execution_count": 14,
   "metadata": {},
   "outputs": [
    {
     "data": {
      "text/html": [
       "<div>\n",
       "<style scoped>\n",
       "    .dataframe tbody tr th:only-of-type {\n",
       "        vertical-align: middle;\n",
       "    }\n",
       "\n",
       "    .dataframe tbody tr th {\n",
       "        vertical-align: top;\n",
       "    }\n",
       "\n",
       "    .dataframe thead th {\n",
       "        text-align: right;\n",
       "    }\n",
       "</style>\n",
       "<table border=\"1\" class=\"dataframe\">\n",
       "  <thead>\n",
       "    <tr style=\"text-align: right;\">\n",
       "      <th></th>\n",
       "      <th>Year</th>\n",
       "      <th>Period</th>\n",
       "      <th>Product</th>\n",
       "      <th>Province</th>\n",
       "      <th>Quantity</th>\n",
       "    </tr>\n",
       "  </thead>\n",
       "  <tbody>\n",
       "    <tr>\n",
       "      <td>58027</td>\n",
       "      <td>2019</td>\n",
       "      <td>201912</td>\n",
       "      <td>PRODUCT_X</td>\n",
       "      <td>ŞANLIURFA</td>\n",
       "      <td>317</td>\n",
       "    </tr>\n",
       "    <tr>\n",
       "      <td>58028</td>\n",
       "      <td>2019</td>\n",
       "      <td>201912</td>\n",
       "      <td>PRODUCT_X</td>\n",
       "      <td>TRABZON</td>\n",
       "      <td>171</td>\n",
       "    </tr>\n",
       "    <tr>\n",
       "      <td>58029</td>\n",
       "      <td>2019</td>\n",
       "      <td>201912</td>\n",
       "      <td>PRODUCT_X</td>\n",
       "      <td>TUNCELİ</td>\n",
       "      <td>16</td>\n",
       "    </tr>\n",
       "    <tr>\n",
       "      <td>58030</td>\n",
       "      <td>2019</td>\n",
       "      <td>201912</td>\n",
       "      <td>PRODUCT_X</td>\n",
       "      <td>VAN</td>\n",
       "      <td>301</td>\n",
       "    </tr>\n",
       "    <tr>\n",
       "      <td>58031</td>\n",
       "      <td>2019</td>\n",
       "      <td>201912</td>\n",
       "      <td>PRODUCT_X</td>\n",
       "      <td>YALOVA</td>\n",
       "      <td>77</td>\n",
       "    </tr>\n",
       "  </tbody>\n",
       "</table>\n",
       "</div>"
      ],
      "text/plain": [
       "       Year  Period    Product   Province  Quantity\n",
       "58027  2019  201912  PRODUCT_X  ŞANLIURFA       317\n",
       "58028  2019  201912  PRODUCT_X    TRABZON       171\n",
       "58029  2019  201912  PRODUCT_X    TUNCELİ        16\n",
       "58030  2019  201912  PRODUCT_X        VAN       301\n",
       "58031  2019  201912  PRODUCT_X     YALOVA        77"
      ]
     },
     "execution_count": 14,
     "metadata": {},
     "output_type": "execute_result"
    }
   ],
   "source": [
    "df.tail()"
   ]
  },
  {
   "cell_type": "code",
   "execution_count": 15,
   "metadata": {},
   "outputs": [
    {
     "data": {
      "text/plain": [
       "Year        0\n",
       "Period      0\n",
       "Product     0\n",
       "Province    0\n",
       "Quantity    0\n",
       "dtype: int64"
      ]
     },
     "execution_count": 15,
     "metadata": {},
     "output_type": "execute_result"
    }
   ],
   "source": [
    "df.isnull().sum()"
   ]
  },
  {
   "cell_type": "code",
   "execution_count": 16,
   "metadata": {},
   "outputs": [
    {
     "data": {
      "text/plain": [
       "array(['ADANA', 'ADIYAMAN', 'AFYON', 'AKSARAY', 'AMASYA', 'ANKARA',\n",
       "       'ANTALYA', 'ARDAHAN', 'ARTVİN', 'AYDIN', 'AĞRI', 'BALIKESİR',\n",
       "       'BARTIN', 'BATMAN', 'BAYBURT', 'BINGOL', 'BITLIS', 'BOLU',\n",
       "       'BURDUR', 'BURSA', 'BİLECİK', 'DENİZLİ', 'DÜZCE', 'DİYARBAKIR',\n",
       "       'EDİRNE', 'ELAZIĞ', 'ERZURUM', 'ERZİNCAN', 'ESKİŞEHİR',\n",
       "       'GAZİANTEP', 'GÜMÜŞHANE', 'GİRESUN', 'HAKKARİ', 'HATAY', 'ISPARTA',\n",
       "       'ISTANBUL', 'IĞDIR', 'KAHRAMANMARAŞ', 'KARABÜK', 'KARAMAN', 'KARS',\n",
       "       'KASTAMONU', 'KAYSERİ', 'KIRIKKALE', 'KIRKLARELİ', 'KIRŞEHİR',\n",
       "       'KOCAELİ', 'KONYA', 'KÜTAHYA', 'KİLİS', 'MALATYA', 'MANİSA',\n",
       "       'MARDIN', 'MUĞLA', 'MUŞ', 'NEVŞEHİR', 'NİĞDE', 'ORDU', 'OSMANİYE',\n",
       "       'RİZE', 'SAKARYA', 'SAMSUN', 'SİNOP', 'SİVAS', 'SİİRT', 'TEKİRDAĞ',\n",
       "       'TOKAT', 'TRABZON', 'TUNCELİ', 'UŞAK', 'VAN', 'YALOVA', 'YOZGAT',\n",
       "       'ZONGULDAK', 'ÇANAKKKALE', 'ÇANKIRI', 'ÇORUM', 'İSTANBUL', 'İZMİR',\n",
       "       'İÇEL', 'ŞANLIURFA', 'ŞIRNAK'], dtype=object)"
      ]
     },
     "execution_count": 16,
     "metadata": {},
     "output_type": "execute_result"
    }
   ],
   "source": [
    "np.sort(df[\"Province\"].unique())"
   ]
  },
  {
   "cell_type": "code",
   "execution_count": 17,
   "metadata": {},
   "outputs": [],
   "source": [
    "m = {}\n",
    "for mistake in df['Province']:\n",
    "    if (mistake == 'ISTANBUL'):\n",
    "        m.setdefault(mistake,'İSTANBUL')\n",
    "    else:\n",
    "        m.setdefault(mistake, mistake)\n",
    "        \n",
    "df['Province'] = df['Province'].map(m)"
   ]
  },
  {
   "cell_type": "code",
   "execution_count": 18,
   "metadata": {
    "scrolled": true
   },
   "outputs": [
    {
     "data": {
      "text/plain": [
       "array(['ADANA', 'ADIYAMAN', 'AFYON', 'AKSARAY', 'AMASYA', 'ANKARA',\n",
       "       'ANTALYA', 'ARDAHAN', 'ARTVİN', 'AYDIN', 'AĞRI', 'BALIKESİR',\n",
       "       'BARTIN', 'BATMAN', 'BAYBURT', 'BINGOL', 'BITLIS', 'BOLU',\n",
       "       'BURDUR', 'BURSA', 'BİLECİK', 'DENİZLİ', 'DÜZCE', 'DİYARBAKIR',\n",
       "       'EDİRNE', 'ELAZIĞ', 'ERZURUM', 'ERZİNCAN', 'ESKİŞEHİR',\n",
       "       'GAZİANTEP', 'GÜMÜŞHANE', 'GİRESUN', 'HAKKARİ', 'HATAY', 'ISPARTA',\n",
       "       'IĞDIR', 'KAHRAMANMARAŞ', 'KARABÜK', 'KARAMAN', 'KARS',\n",
       "       'KASTAMONU', 'KAYSERİ', 'KIRIKKALE', 'KIRKLARELİ', 'KIRŞEHİR',\n",
       "       'KOCAELİ', 'KONYA', 'KÜTAHYA', 'KİLİS', 'MALATYA', 'MANİSA',\n",
       "       'MARDIN', 'MUĞLA', 'MUŞ', 'NEVŞEHİR', 'NİĞDE', 'ORDU', 'OSMANİYE',\n",
       "       'RİZE', 'SAKARYA', 'SAMSUN', 'SİNOP', 'SİVAS', 'SİİRT', 'TEKİRDAĞ',\n",
       "       'TOKAT', 'TRABZON', 'TUNCELİ', 'UŞAK', 'VAN', 'YALOVA', 'YOZGAT',\n",
       "       'ZONGULDAK', 'ÇANAKKKALE', 'ÇANKIRI', 'ÇORUM', 'İSTANBUL', 'İZMİR',\n",
       "       'İÇEL', 'ŞANLIURFA', 'ŞIRNAK'], dtype=object)"
      ]
     },
     "execution_count": 18,
     "metadata": {},
     "output_type": "execute_result"
    }
   ],
   "source": [
    "np.sort(df[\"Province\"].unique())"
   ]
  },
  {
   "cell_type": "code",
   "execution_count": 20,
   "metadata": {},
   "outputs": [
    {
     "name": "stdout",
     "output_type": "stream",
     "text": [
      "<class 'pandas.core.frame.DataFrame'>\n",
      "RangeIndex: 13343 entries, 0 to 13342\n",
      "Data columns (total 5 columns):\n",
      "Year        13343 non-null int64\n",
      "Period      13343 non-null int64\n",
      "Product     13343 non-null object\n",
      "Province    13343 non-null object\n",
      "Quantity    13343 non-null int64\n",
      "dtypes: int64(3), object(2)\n",
      "memory usage: 521.3+ KB\n"
     ]
    }
   ],
   "source": [
    "df = df.groupby(by = ['Year', 'Period', 'Product', 'Province'])['Quantity'].sum().reset_index()\n",
    "df.info()"
   ]
  },
  {
   "cell_type": "code",
   "execution_count": 23,
   "metadata": {},
   "outputs": [
    {
     "data": {
      "text/html": [
       "<div>\n",
       "<style scoped>\n",
       "    .dataframe tbody tr th:only-of-type {\n",
       "        vertical-align: middle;\n",
       "    }\n",
       "\n",
       "    .dataframe tbody tr th {\n",
       "        vertical-align: top;\n",
       "    }\n",
       "\n",
       "    .dataframe thead th {\n",
       "        text-align: right;\n",
       "    }\n",
       "</style>\n",
       "<table border=\"1\" class=\"dataframe\">\n",
       "  <thead>\n",
       "    <tr style=\"text-align: right;\">\n",
       "      <th></th>\n",
       "      <th>Year</th>\n",
       "      <th>Period</th>\n",
       "      <th>Product</th>\n",
       "      <th>Province</th>\n",
       "      <th>Quantity</th>\n",
       "    </tr>\n",
       "  </thead>\n",
       "  <tbody>\n",
       "    <tr>\n",
       "      <td>0</td>\n",
       "      <td>2017</td>\n",
       "      <td>201701</td>\n",
       "      <td>PRODUCT_A</td>\n",
       "      <td>ADANA</td>\n",
       "      <td>346</td>\n",
       "    </tr>\n",
       "    <tr>\n",
       "      <td>1</td>\n",
       "      <td>2017</td>\n",
       "      <td>201701</td>\n",
       "      <td>PRODUCT_A</td>\n",
       "      <td>ADIYAMAN</td>\n",
       "      <td>36</td>\n",
       "    </tr>\n",
       "    <tr>\n",
       "      <td>2</td>\n",
       "      <td>2017</td>\n",
       "      <td>201701</td>\n",
       "      <td>PRODUCT_A</td>\n",
       "      <td>AFYON</td>\n",
       "      <td>66</td>\n",
       "    </tr>\n",
       "    <tr>\n",
       "      <td>3</td>\n",
       "      <td>2017</td>\n",
       "      <td>201701</td>\n",
       "      <td>PRODUCT_A</td>\n",
       "      <td>AKSARAY</td>\n",
       "      <td>36</td>\n",
       "    </tr>\n",
       "    <tr>\n",
       "      <td>4</td>\n",
       "      <td>2017</td>\n",
       "      <td>201701</td>\n",
       "      <td>PRODUCT_A</td>\n",
       "      <td>AMASYA</td>\n",
       "      <td>34</td>\n",
       "    </tr>\n",
       "  </tbody>\n",
       "</table>\n",
       "</div>"
      ],
      "text/plain": [
       "   Year  Period    Product  Province  Quantity\n",
       "0  2017  201701  PRODUCT_A     ADANA       346\n",
       "1  2017  201701  PRODUCT_A  ADIYAMAN        36\n",
       "2  2017  201701  PRODUCT_A     AFYON        66\n",
       "3  2017  201701  PRODUCT_A   AKSARAY        36\n",
       "4  2017  201701  PRODUCT_A    AMASYA        34"
      ]
     },
     "execution_count": 23,
     "metadata": {},
     "output_type": "execute_result"
    }
   ],
   "source": [
    "df.head()"
   ]
  },
  {
   "cell_type": "code",
   "execution_count": 24,
   "metadata": {},
   "outputs": [
    {
     "data": {
      "text/html": [
       "<div>\n",
       "<style scoped>\n",
       "    .dataframe tbody tr th:only-of-type {\n",
       "        vertical-align: middle;\n",
       "    }\n",
       "\n",
       "    .dataframe tbody tr th {\n",
       "        vertical-align: top;\n",
       "    }\n",
       "\n",
       "    .dataframe thead th {\n",
       "        text-align: right;\n",
       "    }\n",
       "</style>\n",
       "<table border=\"1\" class=\"dataframe\">\n",
       "  <thead>\n",
       "    <tr style=\"text-align: right;\">\n",
       "      <th></th>\n",
       "      <th>Year</th>\n",
       "      <th>Period</th>\n",
       "      <th>Product</th>\n",
       "      <th>Province</th>\n",
       "      <th>Quantity</th>\n",
       "    </tr>\n",
       "  </thead>\n",
       "  <tbody>\n",
       "    <tr>\n",
       "      <td>13338</td>\n",
       "      <td>2019</td>\n",
       "      <td>201912</td>\n",
       "      <td>PRODUCT_X</td>\n",
       "      <td>İSTANBUL</td>\n",
       "      <td>3933</td>\n",
       "    </tr>\n",
       "    <tr>\n",
       "      <td>13339</td>\n",
       "      <td>2019</td>\n",
       "      <td>201912</td>\n",
       "      <td>PRODUCT_X</td>\n",
       "      <td>İZMİR</td>\n",
       "      <td>1140</td>\n",
       "    </tr>\n",
       "    <tr>\n",
       "      <td>13340</td>\n",
       "      <td>2019</td>\n",
       "      <td>201912</td>\n",
       "      <td>PRODUCT_X</td>\n",
       "      <td>İÇEL</td>\n",
       "      <td>265</td>\n",
       "    </tr>\n",
       "    <tr>\n",
       "      <td>13341</td>\n",
       "      <td>2019</td>\n",
       "      <td>201912</td>\n",
       "      <td>PRODUCT_X</td>\n",
       "      <td>ŞANLIURFA</td>\n",
       "      <td>317</td>\n",
       "    </tr>\n",
       "    <tr>\n",
       "      <td>13342</td>\n",
       "      <td>2019</td>\n",
       "      <td>201912</td>\n",
       "      <td>PRODUCT_X</td>\n",
       "      <td>ŞIRNAK</td>\n",
       "      <td>27</td>\n",
       "    </tr>\n",
       "  </tbody>\n",
       "</table>\n",
       "</div>"
      ],
      "text/plain": [
       "       Year  Period    Product   Province  Quantity\n",
       "13338  2019  201912  PRODUCT_X   İSTANBUL      3933\n",
       "13339  2019  201912  PRODUCT_X      İZMİR      1140\n",
       "13340  2019  201912  PRODUCT_X       İÇEL       265\n",
       "13341  2019  201912  PRODUCT_X  ŞANLIURFA       317\n",
       "13342  2019  201912  PRODUCT_X     ŞIRNAK        27"
      ]
     },
     "execution_count": 24,
     "metadata": {},
     "output_type": "execute_result"
    }
   ],
   "source": [
    "df.tail()"
   ]
  },
  {
   "cell_type": "code",
   "execution_count": 41,
   "metadata": {},
   "outputs": [
    {
     "data": {
      "image/png": "[encoded data removed]",
      "text/plain": [
       "<Figure size 432x288 with 1 Axes>"
      ]
     },
     "metadata": {},
     "output_type": "display_data"
    },
    {
     "data": {
      "text/plain": [
       "Product\n",
       "PRODUCT_A     576747\n",
       "PRODUCT_B    4291439\n",
       "PRODUCT_C    1879572\n",
       "PRODUCT_V     324499\n",
       "PRODUCT_X     696845\n",
       "Name: Quantity, dtype: int64"
      ]
     },
     "execution_count": 41,
     "metadata": {},
     "output_type": "execute_result"
    }
   ],
   "source": [
    "labels = df.Product.unique()\n",
    "sizes = df.groupby(by = [\"Product\"])[\"Quantity\"].sum().sort_index().tolist()\n",
    "colors = ['honeydew', 'wheat', 'lightskyblue', 'orchid', 'yellowgreen']\n",
    "#explode = (0.1, 0)  # explode 1st slice\n",
    "\n",
    "plt.pie(sizes, labels = labels, colors=colors,\n",
    "autopct='%1.1f%%', shadow=True, startangle=140)\n",
    "\n",
    "plt.axis('equal')\n",
    "plt.show()\n",
    "\n",
    "df.groupby([\"Product\"])[\"Quantity\"].sum()"
   ]
  },
  {
   "cell_type": "code",
   "execution_count": null,
   "metadata": {},
   "outputs": [],
   "source": []
  }
 ],
 "metadata": {
  "kernelspec": {
   "display_name": "Python 3",
   "language": "python",
   "name": "python3"
  },
  "language_info": {
   "codemirror_mode": {
    "name": "ipython",
    "version": 3
   },
   "file_extension": ".py",
   "mimetype": "text/x-python",
   "name": "python",
   "nbconvert_exporter": "python",
   "pygments_lexer": "ipython3",
   "version": "3.7.4"
  }
 },
 "nbformat": 4,
 "nbformat_minor": 4
}
