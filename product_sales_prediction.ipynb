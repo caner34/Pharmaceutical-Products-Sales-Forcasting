{
 "cells": [
  {
   "cell_type": "markdown",
   "metadata": {},
   "source": [
    "# Engenius '20 - EDA"
   ]
  },
  {
   "cell_type": "markdown",
   "metadata": {},
   "source": [
    "## Summary\n",
    "\n",
    "The Main goal is to predict the quantities sold of a set of products within a 4 months time frame."
   ]
  },
  {
   "cell_type": "code",
   "execution_count": null,
   "metadata": {},
   "outputs": [],
   "source": []
  },
  {
   "cell_type": "markdown",
   "metadata": {},
   "source": [
    "# Table Of Contents"
   ]
  },
  {
   "cell_type": "code",
   "execution_count": null,
   "metadata": {},
   "outputs": [],
   "source": []
  },
  {
   "cell_type": "markdown",
   "metadata": {},
   "source": [
    "# Exploratory Data Analysis"
   ]
  },
  {
   "cell_type": "code",
   "execution_count": 1,
   "metadata": {},
   "outputs": [],
   "source": [
    "import numpy as np\n",
    "import matplotlib.pyplot as plt\n",
    "import pandas as pd\n",
    "\n",
    "product_sheets = ['PRODUCT_A', 'PRODUCT_B', 'PRODUCT_C', 'PRODUCT_V', 'PRODUCT_X']\n",
    "data = {}\n",
    "\n",
    "for s in product_sheets:\n",
    "    data[s] = pd.read_excel('datasets/Data2017-2019.xls', s)\n",
    "    \n"
   ]
  },
  {
   "cell_type": "code",
   "execution_count": 2,
   "metadata": {},
   "outputs": [],
   "source": [
    "# merge data frames for all 5 products vertically\n",
    "df_all5 = data[product_sheets[0]]\n",
    "for i,s in enumerate(product_sheets):\n",
    "    if i != 0:\n",
    "        df_all5 = df_all5.append(data[s], ignore_index=True)\n"
   ]
  },
  {
   "cell_type": "code",
   "execution_count": 3,
   "metadata": {},
   "outputs": [
    {
     "data": {
      "text/plain": [
       "(58032, 5)"
      ]
     },
     "execution_count": 3,
     "metadata": {},
     "output_type": "execute_result"
    }
   ],
   "source": [
    "df_all5.shape"
   ]
  },
  {
   "cell_type": "code",
   "execution_count": 4,
   "metadata": {},
   "outputs": [
    {
     "data": {
      "text/plain": [
       "PRODUCT_C    17980\n",
       "PRODUCT_B    17962\n",
       "PRODUCT_A    17371\n",
       "PRODUCT_X     2920\n",
       "PRODUCT_V     1799\n",
       "Name: Product, dtype: int64"
      ]
     },
     "execution_count": 4,
     "metadata": {},
     "output_type": "execute_result"
    }
   ],
   "source": [
    "df_all5.Product.value_counts()"
   ]
  },
  {
   "cell_type": "markdown",
   "metadata": {},
   "source": [
    "### Null Valued Features\n",
    "- ratio of null values\n",
    "  No null values as seen below"
   ]
  },
  {
   "cell_type": "code",
   "execution_count": 5,
   "metadata": {},
   "outputs": [
    {
     "data": {
      "text/plain": [
       "Year        0.0\n",
       "Period      0.0\n",
       "Product     0.0\n",
       "Province    0.0\n",
       "Quantity    0.0\n",
       "dtype: float64"
      ]
     },
     "execution_count": 5,
     "metadata": {},
     "output_type": "execute_result"
    }
   ],
   "source": [
    "(df_all5.isnull().sum() / df_all5.shape[0])"
   ]
  },
  {
   "cell_type": "markdown",
   "metadata": {},
   "source": [
    "* ratio of transactions (sales) with negative quantities\n",
    "  probably product return"
   ]
  },
  {
   "cell_type": "code",
   "execution_count": 6,
   "metadata": {},
   "outputs": [
    {
     "data": {
      "text/plain": [
       "0.0016197959746346844"
      ]
     },
     "execution_count": 6,
     "metadata": {},
     "output_type": "execute_result"
    }
   ],
   "source": [
    "(df_all5[df_all5.Quantity < 0].shape[0] / df_all5.shape[0])"
   ]
  },
  {
   "cell_type": "code",
   "execution_count": 7,
   "metadata": {},
   "outputs": [
    {
     "data": {
      "text/html": [
       "<div>\n",
       "<style scoped>\n",
       "    .dataframe tbody tr th:only-of-type {\n",
       "        vertical-align: middle;\n",
       "    }\n",
       "\n",
       "    .dataframe tbody tr th {\n",
       "        vertical-align: top;\n",
       "    }\n",
       "\n",
       "    .dataframe thead th {\n",
       "        text-align: right;\n",
       "    }\n",
       "</style>\n",
       "<table border=\"1\" class=\"dataframe\">\n",
       "  <thead>\n",
       "    <tr style=\"text-align: right;\">\n",
       "      <th></th>\n",
       "      <th>index</th>\n",
       "      <th>Year</th>\n",
       "      <th>Period</th>\n",
       "      <th>Product</th>\n",
       "      <th>Province</th>\n",
       "      <th>Quantity</th>\n",
       "    </tr>\n",
       "  </thead>\n",
       "  <tbody>\n",
       "    <tr>\n",
       "      <th>0</th>\n",
       "      <td>4</td>\n",
       "      <td>2017</td>\n",
       "      <td>201701</td>\n",
       "      <td>PRODUCT_A</td>\n",
       "      <td>ADANA</td>\n",
       "      <td>11</td>\n",
       "    </tr>\n",
       "    <tr>\n",
       "      <th>1</th>\n",
       "      <td>5</td>\n",
       "      <td>2017</td>\n",
       "      <td>201701</td>\n",
       "      <td>PRODUCT_A</td>\n",
       "      <td>ADANA</td>\n",
       "      <td>25</td>\n",
       "    </tr>\n",
       "    <tr>\n",
       "      <th>2</th>\n",
       "      <td>7</td>\n",
       "      <td>2017</td>\n",
       "      <td>201701</td>\n",
       "      <td>PRODUCT_A</td>\n",
       "      <td>ADANA</td>\n",
       "      <td>54</td>\n",
       "    </tr>\n",
       "    <tr>\n",
       "      <th>3</th>\n",
       "      <td>8</td>\n",
       "      <td>2017</td>\n",
       "      <td>201701</td>\n",
       "      <td>PRODUCT_A</td>\n",
       "      <td>ADANA</td>\n",
       "      <td>17</td>\n",
       "    </tr>\n",
       "    <tr>\n",
       "      <th>4</th>\n",
       "      <td>9</td>\n",
       "      <td>2017</td>\n",
       "      <td>201701</td>\n",
       "      <td>PRODUCT_A</td>\n",
       "      <td>ADANA</td>\n",
       "      <td>30</td>\n",
       "    </tr>\n",
       "  </tbody>\n",
       "</table>\n",
       "</div>"
      ],
      "text/plain": [
       "   index  Year  Period    Product Province  Quantity\n",
       "0      4  2017  201701  PRODUCT_A    ADANA        11\n",
       "1      5  2017  201701  PRODUCT_A    ADANA        25\n",
       "2      7  2017  201701  PRODUCT_A    ADANA        54\n",
       "3      8  2017  201701  PRODUCT_A    ADANA        17\n",
       "4      9  2017  201701  PRODUCT_A    ADANA        30"
      ]
     },
     "execution_count": 7,
     "metadata": {},
     "output_type": "execute_result"
    }
   ],
   "source": [
    "data_sorted = df_all5.sort_values(by=['Period', 'Province', 'Product']).reset_index()\n",
    "data_sorted.head(5)"
   ]
  },
  {
   "cell_type": "code",
   "execution_count": 8,
   "metadata": {},
   "outputs": [
    {
     "data": {
      "text/html": [
       "<div>\n",
       "<style scoped>\n",
       "    .dataframe tbody tr th:only-of-type {\n",
       "        vertical-align: middle;\n",
       "    }\n",
       "\n",
       "    .dataframe tbody tr th {\n",
       "        vertical-align: top;\n",
       "    }\n",
       "\n",
       "    .dataframe thead th {\n",
       "        text-align: right;\n",
       "    }\n",
       "</style>\n",
       "<table border=\"1\" class=\"dataframe\">\n",
       "  <thead>\n",
       "    <tr style=\"text-align: right;\">\n",
       "      <th></th>\n",
       "      <th>index</th>\n",
       "      <th>Year</th>\n",
       "      <th>Period</th>\n",
       "      <th>Product</th>\n",
       "      <th>Province</th>\n",
       "      <th>Quantity</th>\n",
       "    </tr>\n",
       "  </thead>\n",
       "  <tbody>\n",
       "    <tr>\n",
       "      <th>0</th>\n",
       "      <td>4</td>\n",
       "      <td>2017</td>\n",
       "      <td>201701</td>\n",
       "      <td>PRODUCT_A</td>\n",
       "      <td>ADANA</td>\n",
       "      <td>11</td>\n",
       "    </tr>\n",
       "    <tr>\n",
       "      <th>1</th>\n",
       "      <td>5</td>\n",
       "      <td>2017</td>\n",
       "      <td>201701</td>\n",
       "      <td>PRODUCT_A</td>\n",
       "      <td>ADANA</td>\n",
       "      <td>25</td>\n",
       "    </tr>\n",
       "    <tr>\n",
       "      <th>2</th>\n",
       "      <td>7</td>\n",
       "      <td>2017</td>\n",
       "      <td>201701</td>\n",
       "      <td>PRODUCT_A</td>\n",
       "      <td>ADANA</td>\n",
       "      <td>54</td>\n",
       "    </tr>\n",
       "    <tr>\n",
       "      <th>3</th>\n",
       "      <td>8</td>\n",
       "      <td>2017</td>\n",
       "      <td>201701</td>\n",
       "      <td>PRODUCT_A</td>\n",
       "      <td>ADANA</td>\n",
       "      <td>17</td>\n",
       "    </tr>\n",
       "    <tr>\n",
       "      <th>4</th>\n",
       "      <td>9</td>\n",
       "      <td>2017</td>\n",
       "      <td>201701</td>\n",
       "      <td>PRODUCT_A</td>\n",
       "      <td>ADANA</td>\n",
       "      <td>30</td>\n",
       "    </tr>\n",
       "  </tbody>\n",
       "</table>\n",
       "</div>"
      ],
      "text/plain": [
       "   index  Year  Period    Product Province  Quantity\n",
       "0      4  2017  201701  PRODUCT_A    ADANA        11\n",
       "1      5  2017  201701  PRODUCT_A    ADANA        25\n",
       "2      7  2017  201701  PRODUCT_A    ADANA        54\n",
       "3      8  2017  201701  PRODUCT_A    ADANA        17\n",
       "4      9  2017  201701  PRODUCT_A    ADANA        30"
      ]
     },
     "execution_count": 8,
     "metadata": {},
     "output_type": "execute_result"
    }
   ],
   "source": [
    "data_sorted = df_all5.sort_values(by=['Period', 'Province', 'Product']).reset_index()\n",
    "data_sorted.head(5)"
   ]
  },
  {
   "cell_type": "code",
   "execution_count": 9,
   "metadata": {},
   "outputs": [
    {
     "data": {
      "text/plain": [
       "Period  Province   Product  \n",
       "201701  ADANA      PRODUCT_A     346\n",
       "                   PRODUCT_B    4838\n",
       "                   PRODUCT_C    1004\n",
       "                   PRODUCT_V      20\n",
       "                   PRODUCT_X     910\n",
       "                                ... \n",
       "201912  ŞANLIURFA  PRODUCT_X     317\n",
       "        ŞIRNAK     PRODUCT_A      28\n",
       "                   PRODUCT_B     144\n",
       "                   PRODUCT_C     323\n",
       "                   PRODUCT_X      27\n",
       "Name: Quantity, Length: 13523, dtype: int64"
      ]
     },
     "execution_count": 9,
     "metadata": {},
     "output_type": "execute_result"
    }
   ],
   "source": [
    "data_sorted.groupby(['Period', 'Province', 'Product'])['Quantity'].sum()"
   ]
  },
  {
   "cell_type": "code",
   "execution_count": null,
   "metadata": {},
   "outputs": [],
   "source": []
  }
 ],
 "metadata": {
  "kernelspec": {
   "display_name": "Python 3",
   "language": "python",
   "name": "python3"
  },
  "language_info": {
   "codemirror_mode": {
    "name": "ipython",
    "version": 3
   },
   "file_extension": ".py",
   "mimetype": "text/x-python",
   "name": "python",
   "nbconvert_exporter": "python",
   "pygments_lexer": "ipython3",
   "version": "3.7.7"
  }
 },
 "nbformat": 4,
 "nbformat_minor": 4
}
